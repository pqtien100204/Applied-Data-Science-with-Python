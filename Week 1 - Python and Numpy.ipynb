{
 "cells": [
  {
   "cell_type": "markdown",
   "id": "f7972875",
   "metadata": {},
   "source": [
    "# Data Manipulation with Python"
   ]
  },
  {
   "cell_type": "markdown",
   "id": "bcf20658",
   "metadata": {},
   "source": [
    "Dates and times with Python"
   ]
  },
  {
   "cell_type": "code",
   "execution_count": 3,
   "id": "1d32e160",
   "metadata": {},
   "outputs": [],
   "source": [
    "import datetime as dt\n",
    "import time as tm"
   ]
  },
  {
   "cell_type": "code",
   "execution_count": 4,
   "id": "20cfbfcb",
   "metadata": {},
   "outputs": [
    {
     "data": {
      "text/plain": [
       "1686010368.4746933"
      ]
     },
     "execution_count": 4,
     "metadata": {},
     "output_type": "execute_result"
    }
   ],
   "source": [
    "tm.time()"
   ]
  },
  {
   "cell_type": "code",
   "execution_count": 5,
   "id": "441a1241",
   "metadata": {},
   "outputs": [
    {
     "data": {
      "text/plain": [
       "datetime.datetime(2023, 6, 6, 7, 13, 18, 747761)"
      ]
     },
     "execution_count": 5,
     "metadata": {},
     "output_type": "execute_result"
    }
   ],
   "source": [
    "dtnow = dt.datetime.fromtimestamp(tm.time())\n",
    "dtnow"
   ]
  },
  {
   "cell_type": "code",
   "execution_count": 8,
   "id": "ed2cfec5",
   "metadata": {},
   "outputs": [
    {
     "data": {
      "text/plain": [
       "(2023, 6, 6, 7, 13, 18, 747761)"
      ]
     },
     "execution_count": 8,
     "metadata": {},
     "output_type": "execute_result"
    }
   ],
   "source": [
    "dtnow.year, dtnow.month, dtnow.day, dtnow.hour, dtnow.minute, dtnow.second, dtnow.microsecond"
   ]
  },
  {
   "cell_type": "code",
   "execution_count": 15,
   "id": "6337e0e2",
   "metadata": {},
   "outputs": [
    {
     "data": {
      "text/plain": [
       "datetime.timedelta(days=29)"
      ]
     },
     "execution_count": 15,
     "metadata": {},
     "output_type": "execute_result"
    }
   ],
   "source": [
    "delta = dt.timedelta(days=1,weeks=4)\n",
    "delta"
   ]
  },
  {
   "cell_type": "code",
   "execution_count": 12,
   "id": "cb0cd832",
   "metadata": {},
   "outputs": [
    {
     "data": {
      "text/plain": [
       "datetime.date(2023, 6, 6)"
      ]
     },
     "execution_count": 12,
     "metadata": {},
     "output_type": "execute_result"
    }
   ],
   "source": [
    "today = dt.date.today()\n",
    "today"
   ]
  },
  {
   "cell_type": "code",
   "execution_count": 16,
   "id": "5e52e6d0",
   "metadata": {},
   "outputs": [
    {
     "data": {
      "text/plain": [
       "datetime.date(2023, 7, 5)"
      ]
     },
     "execution_count": 16,
     "metadata": {},
     "output_type": "execute_result"
    }
   ],
   "source": [
    "today+delta"
   ]
  },
  {
   "cell_type": "markdown",
   "id": "f573325c",
   "metadata": {},
   "source": [
    "Advanced Python Objects, map(), lambda and List Comprehension"
   ]
  },
  {
   "cell_type": "code",
   "execution_count": 4,
   "id": "fea9ede2",
   "metadata": {},
   "outputs": [],
   "source": [
    "class Bag:\n",
    "    brand = \"Degrey\" # this will be the variable that all instances share together (Class Attribute)\n",
    "    # Methods\n",
    "    def __init__(self, name, stuff): #once you instantiate an object, that object has full access to all attributes and methods of that class\n",
    "        self.name = name\n",
    "        self.stuff = stuff\n",
    "    def set_name(self, new_name):\n",
    "        self.name = new_name\n",
    "    def set_stuffs(self, new_stuffs):\n",
    "        self.stuff = self.stuff + new_stuffs"
   ]
  },
  {
   "cell_type": "code",
   "execution_count": 5,
   "id": "91010266",
   "metadata": {},
   "outputs": [],
   "source": [
    "bag1 = Bag(\"hello\", [\"pens\", \"ruler\", \"calculator\"])"
   ]
  },
  {
   "cell_type": "code",
   "execution_count": 6,
   "id": "b662ed0a",
   "metadata": {},
   "outputs": [
    {
     "data": {
      "text/plain": [
       "'hello'"
      ]
     },
     "execution_count": 6,
     "metadata": {},
     "output_type": "execute_result"
    }
   ],
   "source": [
    "bag1.name"
   ]
  },
  {
   "cell_type": "code",
   "execution_count": 7,
   "id": "e4f62af9",
   "metadata": {},
   "outputs": [],
   "source": [
    "bag1.set_name(\"world\")"
   ]
  },
  {
   "cell_type": "code",
   "execution_count": 8,
   "id": "c235bc35",
   "metadata": {},
   "outputs": [],
   "source": [
    "bag1.set_stuffs([\"eraser\", \"books\"])"
   ]
  },
  {
   "cell_type": "code",
   "execution_count": 13,
   "id": "2a8fc740",
   "metadata": {},
   "outputs": [
    {
     "data": {
      "text/plain": [
       "[1, 2, 3, 2, 1]"
      ]
     },
     "execution_count": 13,
     "metadata": {},
     "output_type": "execute_result"
    }
   ],
   "source": [
    "# Functional Programming with map()\n",
    "store1 = [1, 2, 3, 9, 8]\n",
    "store2 = [1, 6, 9, 2, 1]\n",
    "cheapest = list(map(min, store1, store2))\n",
    "cheapest"
   ]
  },
  {
   "cell_type": "code",
   "execution_count": 15,
   "id": "583e6b7e",
   "metadata": {},
   "outputs": [
    {
     "data": {
      "text/plain": [
       "3"
      ]
     },
     "execution_count": 15,
     "metadata": {},
     "output_type": "execute_result"
    }
   ],
   "source": [
    "# lambda is a function with no name. In lambda, there is only 1 expression to be evaluated => return a function reference\n",
    "my_function = lambda a,b,c : a+b\n",
    "my_function(1,2,3)"
   ]
  },
  {
   "cell_type": "code",
   "execution_count": 16,
   "id": "6fe3bfba",
   "metadata": {},
   "outputs": [
    {
     "name": "stdout",
     "output_type": "stream",
     "text": [
      "True\n",
      "True\n",
      "True\n",
      "True\n"
     ]
    },
    {
     "data": {
      "text/plain": [
       "True"
      ]
     },
     "execution_count": 16,
     "metadata": {},
     "output_type": "execute_result"
    }
   ],
   "source": [
    "people = ['Dr. Christopher Brooks', 'Dr. Kevyn Collins-Thompson', 'Dr. VG Vinod Vydiswaran', 'Dr. Daniel Romero']\n",
    "\n",
    "def split_title_and_name(person):\n",
    "    return person.split()[0] + ' ' + person.split()[-1]\n",
    "\n",
    "#option 1\n",
    "for person in people:\n",
    "    print(split_title_and_name(person) == (lambda x: x.split()[0] + ' ' + x.split()[-1])(person))\n",
    "\n",
    "#option 2\n",
    "list(map(split_title_and_name, people)) == list(map(lambda person: person.split()[0] + ' ' + person.split()[-1], people))"
   ]
  },
  {
   "cell_type": "code",
   "execution_count": 17,
   "id": "ed200dbf",
   "metadata": {},
   "outputs": [
    {
     "data": {
      "text/plain": [
       "[0, 7, 14, 21, 28, 35, 42, 49, 56, 63, 70, 77, 84, 91, 98]"
      ]
     },
     "execution_count": 17,
     "metadata": {},
     "output_type": "execute_result"
    }
   ],
   "source": [
    "li_com = [number for number in range(100) if number % 7 == 0]\n",
    "li_com"
   ]
  },
  {
   "cell_type": "code",
   "execution_count": 18,
   "id": "f1978414",
   "metadata": {},
   "outputs": [
    {
     "data": {
      "text/plain": [
       "True"
      ]
     },
     "execution_count": 18,
     "metadata": {},
     "output_type": "execute_result"
    }
   ],
   "source": [
    "def times_tables():\n",
    "    lst = []\n",
    "    for i in range(10):\n",
    "        for j in range (10):\n",
    "            lst.append(i*j)\n",
    "    return lst\n",
    "\n",
    "times_tables() == [i*j for i in range(10) for j in range(10)]"
   ]
  },
  {
   "cell_type": "code",
   "execution_count": 20,
   "id": "6a5b9ba2",
   "metadata": {},
   "outputs": [],
   "source": [
    "lowercase = 'abcdefghijklmnopqrstuvwxyz'\n",
    "digits = '0123456789'\n",
    "\n",
    "answer = [str(a+b+c+d) for a in lowercase for b in lowercase for c in digits for d in digits]"
   ]
  },
  {
   "cell_type": "code",
   "execution_count": 22,
   "id": "55d1121b",
   "metadata": {},
   "outputs": [
    {
     "data": {
      "text/plain": [
       "['aa00',\n",
       " 'aa01',\n",
       " 'aa02',\n",
       " 'aa03',\n",
       " 'aa04',\n",
       " 'aa05',\n",
       " 'aa06',\n",
       " 'aa07',\n",
       " 'aa08',\n",
       " 'aa09']"
      ]
     },
     "execution_count": 22,
     "metadata": {},
     "output_type": "execute_result"
    }
   ],
   "source": [
    "answer[:10]"
   ]
  },
  {
   "cell_type": "markdown",
   "id": "2aa2b002",
   "metadata": {},
   "source": [
    "# Numerical Python Library (Numpy)"
   ]
  },
  {
   "cell_type": "markdown",
   "id": "1b005ae9",
   "metadata": {},
   "source": [
    "## Array Creation"
   ]
  },
  {
   "cell_type": "code",
   "execution_count": 1,
   "id": "9c79273a",
   "metadata": {},
   "outputs": [],
   "source": [
    "import numpy as np\n",
    "import math as m"
   ]
  },
  {
   "cell_type": "code",
   "execution_count": 2,
   "id": "a8216fab",
   "metadata": {},
   "outputs": [
    {
     "name": "stdout",
     "output_type": "stream",
     "text": [
      "[[1 2 3]\n",
      " [4 5 6]]\n",
      "2\n"
     ]
    }
   ],
   "source": [
    "a = np.array([[1,2,3],[4,5,6]])\n",
    "print(a)\n",
    "print(a.ndim) # number of dimension is the number of rows"
   ]
  },
  {
   "cell_type": "code",
   "execution_count": 3,
   "id": "03980522",
   "metadata": {},
   "outputs": [
    {
     "name": "stdout",
     "output_type": "stream",
     "text": [
      "(2, 3)\n",
      "int32\n"
     ]
    }
   ],
   "source": [
    "print(a.shape)\n",
    "print(a.dtype)"
   ]
  },
  {
   "cell_type": "code",
   "execution_count": 4,
   "id": "08a237ba",
   "metadata": {},
   "outputs": [
    {
     "name": "stdout",
     "output_type": "stream",
     "text": [
      "[[1. 1. 1.]\n",
      " [1. 1. 1.]]\n",
      "[[0. 0. 0.]\n",
      " [0. 0. 0.]]\n",
      "[[1. 1. 1.]\n",
      " [1. 1. 1.]]\n"
     ]
    }
   ],
   "source": [
    "# If we know the shape of array we want to create. These built-in functions will provide you with the random fillers\n",
    "b = np.ones((2,3))\n",
    "print(b)\n",
    "c = np.zeros((2,3))\n",
    "print(c)\n",
    "\n",
    "print(c+b)"
   ]
  },
  {
   "cell_type": "code",
   "execution_count": 5,
   "id": "c5c355bf",
   "metadata": {},
   "outputs": [
    {
     "data": {
      "text/plain": [
       "array([[0.82457959, 0.26463149, 0.6675414 ],\n",
       "       [0.29660439, 0.13215296, 0.44560319]])"
      ]
     },
     "execution_count": 5,
     "metadata": {},
     "output_type": "execute_result"
    }
   ],
   "source": [
    "np.random.rand(2,3)"
   ]
  },
  {
   "cell_type": "code",
   "execution_count": 6,
   "id": "414a2e3f",
   "metadata": {},
   "outputs": [
    {
     "data": {
      "text/plain": [
       "array([1, 3, 5, 7, 9])"
      ]
     },
     "execution_count": 6,
     "metadata": {},
     "output_type": "execute_result"
    }
   ],
   "source": [
    "# arange() function\n",
    "ara = np.arange(1,10,2)\n",
    "ara"
   ]
  },
  {
   "cell_type": "code",
   "execution_count": 7,
   "id": "b151e1d2",
   "metadata": {},
   "outputs": [
    {
     "data": {
      "text/plain": [
       "array([0.        , 0.14285714, 0.28571429, 0.42857143, 0.57142857,\n",
       "       0.71428571, 0.85714286, 1.        , 1.14285714, 1.28571429,\n",
       "       1.42857143, 1.57142857, 1.71428571, 1.85714286, 2.        ])"
      ]
     },
     "execution_count": 7,
     "metadata": {},
     "output_type": "execute_result"
    }
   ],
   "source": [
    "# linspace() function => create an array with length == c from a to b\n",
    "np.linspace(0,2,15)"
   ]
  },
  {
   "cell_type": "markdown",
   "id": "7bd654b3",
   "metadata": {},
   "source": [
    "## Array Operations"
   ]
  },
  {
   "cell_type": "code",
   "execution_count": 8,
   "id": "c01df2ca",
   "metadata": {},
   "outputs": [
    {
     "name": "stdout",
     "output_type": "stream",
     "text": [
      "[ 9 18 27 36]\n",
      "[11 22 33 44]\n",
      "[10. 10. 10. 10.]\n",
      "[ 10  40  90 160]\n"
     ]
    }
   ],
   "source": [
    "# Elementwise manipulation\n",
    "x = np.array([10,20,30,40])\n",
    "y = np.array([1,2,3,4])\n",
    "print(x-y)\n",
    "print(x+y)\n",
    "print(x/y)\n",
    "print(x*y)"
   ]
  },
  {
   "cell_type": "code",
   "execution_count": 9,
   "id": "51d5f932",
   "metadata": {},
   "outputs": [
    {
     "data": {
      "text/plain": [
       "array([False,  True,  True,  True])"
      ]
     },
     "execution_count": 9,
     "metadata": {},
     "output_type": "execute_result"
    }
   ],
   "source": [
    "# Boolean array\n",
    "x > 10"
   ]
  },
  {
   "cell_type": "code",
   "execution_count": 10,
   "id": "abd6b057",
   "metadata": {},
   "outputs": [
    {
     "name": "stdout",
     "output_type": "stream",
     "text": [
      "[[ 5 12]\n",
      " [21 32]]\n",
      "[[19 22]\n",
      " [43 50]]\n"
     ]
    }
   ],
   "source": [
    "# Matrix manipulation\n",
    "X = np.array([[1,2],[3,4]])\n",
    "Y = np.array([[5,6],[7,8]])\n",
    "print(X*Y) # elementwise product\n",
    "print(X@Y) # matrix product. We can also use the dot() function"
   ]
  },
  {
   "cell_type": "code",
   "execution_count": 14,
   "id": "9b3bd1c2",
   "metadata": {},
   "outputs": [
    {
     "data": {
      "text/plain": [
       "'int32'"
      ]
     },
     "execution_count": 14,
     "metadata": {},
     "output_type": "execute_result"
    }
   ],
   "source": [
    "X.dtype.name"
   ]
  },
  {
   "cell_type": "code",
   "execution_count": 15,
   "id": "306dc64a",
   "metadata": {},
   "outputs": [
    {
     "name": "stdout",
     "output_type": "stream",
     "text": [
      "10\n",
      "4\n",
      "1\n",
      "2.5\n"
     ]
    }
   ],
   "source": [
    "# Aggregation function like sum() max() min() mean()\n",
    "print(X.sum())\n",
    "print(X.max())\n",
    "print(X.min())\n",
    "print(X.mean())"
   ]
  },
  {
   "cell_type": "code",
   "execution_count": 29,
   "id": "f414db0b",
   "metadata": {},
   "outputs": [
    {
     "name": "stdout",
     "output_type": "stream",
     "text": [
      "[[ 1.  2.  3.  4.]\n",
      " [ 5.  6.  7.  8.]\n",
      " [ 9. 10. 11. 12.]\n",
      " [13. 14. 15. 16.]\n",
      " [17. 18. 19. 20.]]\n",
      "[['1111' '1111' '1111' '1111']\n",
      " ['1111' '1111' '1111' '1111']\n",
      " ['1111' '1111' '1111' '1111']\n",
      " ['1111' '1111' '1111' '1111']\n",
      " ['1111' '1111' '1111' '1111']]\n"
     ]
    }
   ],
   "source": [
    "# reshape() function\n",
    "v = np.arange(1,21,1).reshape(5,4)\n",
    "print(v.astype(float))\n",
    "\n",
    "u = np.full(v.shape,1111)\n",
    "print(u.astype(str))"
   ]
  },
  {
   "cell_type": "code",
   "execution_count": 31,
   "id": "ad6dd236",
   "metadata": {},
   "outputs": [
    {
     "data": {
      "text/plain": [
       "array([[1, 2, 3, 4],\n",
       "       [5, 6, 7, 8]])"
      ]
     },
     "execution_count": 31,
     "metadata": {},
     "output_type": "execute_result"
    }
   ],
   "source": [
    "# indexing - slicing and iterating\n",
    "v[:2,:4]"
   ]
  },
  {
   "cell_type": "code",
   "execution_count": 17,
   "id": "5f5baa8b",
   "metadata": {},
   "outputs": [
    {
     "name": "stdout",
     "output_type": "stream",
     "text": [
      "[[1 2]\n",
      " [9 4]]\n",
      "[9 4]\n"
     ]
    }
   ],
   "source": [
    "# Rememeber to use the copy() function to create a newly seperated array in avoidance of affecting the original one\n",
    "X_new = X[1]\n",
    "X_new[0] = 9\n",
    "print(X)\n",
    "print(X_new)"
   ]
  },
  {
   "cell_type": "code",
   "execution_count": 19,
   "id": "8f9a7054",
   "metadata": {},
   "outputs": [
    {
     "name": "stdout",
     "output_type": "stream",
     "text": [
      "[[1 2]\n",
      " [9 4]]\n",
      "[[  1   2]\n",
      " [777   4]]\n"
     ]
    }
   ],
   "source": [
    "X_new = X.copy()\n",
    "X_new[1,0] = 777\n",
    "print(X)\n",
    "print(X_new)"
   ]
  },
  {
   "cell_type": "code",
   "execution_count": 34,
   "id": "7acb1197",
   "metadata": {},
   "outputs": [
    {
     "data": {
      "text/plain": [
       "[1, 4, 2]"
      ]
     },
     "execution_count": 34,
     "metadata": {},
     "output_type": "execute_result"
    }
   ],
   "source": [
    "X_indexed = [X[0,0], X[1,1], X[0,1]]\n",
    "X_indexed  "
   ]
  },
  {
   "cell_type": "code",
   "execution_count": 37,
   "id": "bb68a5a0",
   "metadata": {},
   "outputs": [
    {
     "name": "stdout",
     "output_type": "stream",
     "text": [
      "[[False  True]\n",
      " [ True  True]]\n",
      "[2 9 4]\n"
     ]
    }
   ],
   "source": [
    "# Boolean indexing \n",
    "print(X >= 2)\n",
    "print(X[X>=2])"
   ]
  },
  {
   "cell_type": "code",
   "execution_count": 39,
   "id": "6564f497",
   "metadata": {},
   "outputs": [
    {
     "data": {
      "text/plain": [
       "array([[2, 3],\n",
       "       [6, 7]])"
      ]
     },
     "execution_count": 39,
     "metadata": {},
     "output_type": "execute_result"
    }
   ],
   "source": [
    "slie = np.array([[1,2,3,4],[5,6,7,8]])\n",
    "slie[:2, 1:3]"
   ]
  },
  {
   "cell_type": "code",
   "execution_count": 41,
   "id": "5bf38b72",
   "metadata": {},
   "outputs": [
    {
     "data": {
      "text/plain": [
       "array([[2, 3, 4],\n",
       "       [6, 7, 8]])"
      ]
     },
     "execution_count": 41,
     "metadata": {},
     "output_type": "execute_result"
    }
   ],
   "source": [
    "slie[:, 1:4]"
   ]
  },
  {
   "cell_type": "markdown",
   "id": "314b744f",
   "metadata": {},
   "source": [
    "# Regular Expression for Pattern Matching"
   ]
  },
  {
   "cell_type": "markdown",
   "id": "941aefaf",
   "metadata": {},
   "source": [
    "## Common RegEx built-in functions"
   ]
  },
  {
   "cell_type": "code",
   "execution_count": 1,
   "id": "3290d8ba",
   "metadata": {},
   "outputs": [],
   "source": [
    "# importing the re modules for using regular expressions in python\n",
    "import re"
   ]
  },
  {
   "cell_type": "code",
   "execution_count": 3,
   "id": "f6b5b5e4",
   "metadata": {},
   "outputs": [
    {
     "name": "stdout",
     "output_type": "stream",
     "text": [
      "Wonderful!\n"
     ]
    }
   ],
   "source": [
    "text = \"This is a very good day\"\n",
    "# search() method checks for a match at anywhere in the string and return a boolena\n",
    "if re.search(\"good\", text):\n",
    "    print(\"Wonderful!\")\n",
    "else:\n",
    "    print(\"Atlas :(\")"
   ]
  },
  {
   "cell_type": "code",
   "execution_count": 4,
   "id": "d9bd5605",
   "metadata": {},
   "outputs": [
    {
     "data": {
      "text/plain": [
       "[\"I'm \",\n",
       " '. ',\n",
       " ' live positively. ',\n",
       " ' is learning new things. ',\n",
       " ' is proud of him']"
      ]
     },
     "execution_count": 4,
     "metadata": {},
     "output_type": "execute_result"
    }
   ],
   "source": [
    "# There are other methods that check for conditionals by segmenting the string => tokenizing: string is devided into substrings based on the patterns => NLP\n",
    "text = \"I'm Tien. Tien live positively. Tien is learning new things. Tien is proud of him\"\n",
    "# split use patterns to create substrings from a string\n",
    "re.split(\"Tien\", text)"
   ]
  },
  {
   "cell_type": "code",
   "execution_count": 5,
   "id": "768f6c79",
   "metadata": {},
   "outputs": [
    {
     "data": {
      "text/plain": [
       "['Tien', 'Tien', 'Tien', 'Tien']"
      ]
     },
     "execution_count": 5,
     "metadata": {},
     "output_type": "execute_result"
    }
   ],
   "source": [
    "# findall() output all occurences of the substring in the string\n",
    "re.findall(\"Tien\", text)"
   ]
  },
  {
   "cell_type": "code",
   "execution_count": 22,
   "id": "7e6a85bf",
   "metadata": {},
   "outputs": [
    {
     "data": {
      "text/plain": [
       "<re.Match object; span=(0, 65), match=\"I'm Tien. Tien live positively. Tien is learning >"
      ]
     },
     "execution_count": 22,
     "metadata": {},
     "output_type": "execute_result"
    }
   ],
   "source": [
    "# Anchors: ^, $. Clustering with ()\n",
    " \n",
    "# search() ~ match()\n",
    "re.search(\"^.+(Tien)\", text)\n",
    "re.match(\"^.+(Tien)\", text)"
   ]
  },
  {
   "cell_type": "markdown",
   "id": "d9485c66",
   "metadata": {},
   "source": [
    "## Patterns and Character Classes"
   ]
  },
  {
   "cell_type": "code",
   "execution_count": 49,
   "id": "1700f5e3",
   "metadata": {},
   "outputs": [
    {
     "data": {
      "text/plain": [
       "['A', 'A', 'A', 'B', 'B', 'A', 'B']"
      ]
     },
     "execution_count": 49,
     "metadata": {},
     "output_type": "execute_result"
    }
   ],
   "source": [
    "grades = \"AA ABBCC DDAC BC\"\n",
    "re.findall('[AB]', grades)"
   ]
  },
  {
   "cell_type": "code",
   "execution_count": 50,
   "id": "0388fec1",
   "metadata": {},
   "outputs": [
    {
     "name": "stdout",
     "output_type": "stream",
     "text": [
      "[('A', 'B'), ('A', 'C')]\n",
      "['AB', 'AC']\n",
      "['AB', 'AC']\n"
     ]
    }
   ],
   "source": [
    "print(re.findall('(A)(B|C)', grades))\n",
    "print(re.findall('[A][BC]', grades))\n",
    "print(re.findall('AB|AC', grades))"
   ]
  },
  {
   "cell_type": "code",
   "execution_count": 51,
   "id": "50d012ef",
   "metadata": {},
   "outputs": [
    {
     "name": "stdout",
     "output_type": "stream",
     "text": [
      "['AA']\n",
      "[' ', 'B', 'B', 'C', 'C', ' ', 'D', 'D', 'C', ' ', 'B', 'C']\n"
     ]
    }
   ],
   "source": [
    "# using ^ for negative\n",
    "print(re.findall('^A+', grades)) # => first \n",
    "print(re.findall('[^A]', grades)) # => not there"
   ]
  },
  {
   "cell_type": "code",
   "execution_count": 52,
   "id": "fa663803",
   "metadata": {},
   "outputs": [
    {
     "name": "stdout",
     "output_type": "stream",
     "text": [
      "None\n"
     ]
    }
   ],
   "source": [
    "print(re.match('^[^A]', grades))"
   ]
  },
  {
   "cell_type": "markdown",
   "id": "a7064c79",
   "metadata": {},
   "source": [
    "## Quantifiers"
   ]
  },
  {
   "cell_type": "code",
   "execution_count": 55,
   "id": "07eb39a9",
   "metadata": {},
   "outputs": [
    {
     "data": {
      "text/plain": [
       "['AA']"
      ]
     },
     "execution_count": 55,
     "metadata": {},
     "output_type": "execute_result"
    }
   ],
   "source": [
    "re.findall('A{2,}', grades)"
   ]
  },
  {
   "cell_type": "code",
   "execution_count": 71,
   "id": "c75e510c",
   "metadata": {},
   "outputs": [
    {
     "data": {
      "text/plain": [
       "['128nj', '9184jj', '8972pa', '22qn']"
      ]
     },
     "execution_count": 71,
     "metadata": {},
     "output_type": "execute_result"
    }
   ],
   "source": [
    "# * => 0 or more\n",
    "# + => 1 or more\n",
    "# ? => 0 or 1\n",
    "text = '128njjfoaabc9184jjdjn8972pacnu22qnx'\n",
    "re.findall(\"\\d+[a-z].+?\", text)"
   ]
  },
  {
   "cell_type": "markdown",
   "id": "55505391",
   "metadata": {},
   "source": [
    "## Groups"
   ]
  },
  {
   "cell_type": "code",
   "execution_count": 73,
   "id": "07a7fe4d",
   "metadata": {},
   "outputs": [
    {
     "data": {
      "text/plain": [
       "[('128', 'n'), ('9184', 'j'), ('8972', 'p'), ('22', 'q')]"
      ]
     },
     "execution_count": 73,
     "metadata": {},
     "output_type": "execute_result"
    }
   ],
   "source": [
    "# In RegEx, we do groupings with () to specify the patterns that we want to output\n",
    "re.findall(\"(\\d+)([a-z]).+?\", text)"
   ]
  },
  {
   "cell_type": "code",
   "execution_count": 78,
   "id": "277e60fc",
   "metadata": {},
   "outputs": [
    {
     "name": "stdout",
     "output_type": "stream",
     "text": [
      "('128', 'n')\n",
      "n\n",
      "('9184', 'j')\n",
      "j\n",
      "('8972', 'p')\n",
      "p\n",
      "('22', 'q')\n",
      "q\n"
     ]
    }
   ],
   "source": [
    "# group() function\n",
    "# finditer() with return a list of match patterns\n",
    "for item in re.finditer(\"(\\d+)([a-z]).+?\", text):\n",
    "    print(item.groups())\n",
    "    print(item.group(2))"
   ]
  },
  {
   "cell_type": "code",
   "execution_count": 79,
   "id": "2a20205a",
   "metadata": {},
   "outputs": [
    {
     "name": "stdout",
     "output_type": "stream",
     "text": [
      "{'digits': '128', 'letter': 'n'}\n",
      "{'digits': '9184', 'letter': 'j'}\n",
      "{'digits': '8972', 'letter': 'p'}\n",
      "{'digits': '22', 'letter': 'q'}\n"
     ]
    }
   ],
   "source": [
    "# The syntax (?P<name>) to form a diction with name-value pairs\n",
    "for item in re.finditer(\"(?P<digits>\\d+)(?P<letter>[a-z]).+?\", text):\n",
    "    print(item.groupdict())"
   ]
  },
  {
   "cell_type": "code",
   "execution_count": 88,
   "id": "493f9c93",
   "metadata": {},
   "outputs": [
    {
     "name": "stdout",
     "output_type": "stream",
     "text": [
      "<re.Match object; span=(0, 3), match='128'>\n",
      "<re.Match object; span=(12, 16), match='9184'>\n",
      "<re.Match object; span=(21, 25), match='8972'>\n",
      "<re.Match object; span=(30, 32), match='22'>\n"
     ]
    }
   ],
   "source": [
    "# The ?= syntax will help us to look for that pattern (capture) but not let them occur on the output\n",
    "for item in re.finditer(\"(\\d+)(?=[a-z].+?)\", text):\n",
    "    print(item)"
   ]
  },
  {
   "cell_type": "code",
   "execution_count": null,
   "id": "262c5109",
   "metadata": {},
   "outputs": [],
   "source": []
  }
 ],
 "metadata": {
  "kernelspec": {
   "display_name": "Python 3 (ipykernel)",
   "language": "python",
   "name": "python3"
  },
  "language_info": {
   "codemirror_mode": {
    "name": "ipython",
    "version": 3
   },
   "file_extension": ".py",
   "mimetype": "text/x-python",
   "name": "python",
   "nbconvert_exporter": "python",
   "pygments_lexer": "ipython3",
   "version": "3.9.13"
  }
 },
 "nbformat": 4,
 "nbformat_minor": 5
}

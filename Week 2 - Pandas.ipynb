{
 "cells": [
  {
   "cell_type": "code",
   "execution_count": 1,
   "id": "cb2fdf50",
   "metadata": {},
   "outputs": [],
   "source": [
    "import numpy as np\n",
    "import pandas as pd"
   ]
  },
  {
   "cell_type": "markdown",
   "id": "ca2147e2",
   "metadata": {},
   "source": [
    "# The Series Data Structure"
   ]
  },
  {
   "cell_type": "markdown",
   "id": "983ee1c6",
   "metadata": {},
   "source": [
    "## Series Creation"
   ]
  },
  {
   "cell_type": "code",
   "execution_count": 2,
   "id": "46ee259a",
   "metadata": {},
   "outputs": [
    {
     "data": {
      "text/plain": [
       "0    Tien\n",
       "1    Bang\n",
       "2      Di\n",
       "dtype: object"
      ]
     },
     "execution_count": 2,
     "metadata": {},
     "output_type": "execute_result"
    }
   ],
   "source": [
    "students = ['Tien', \"Bang\", \"Di\"]\n",
    "pd.Series(students)"
   ]
  },
  {
   "cell_type": "code",
   "execution_count": 7,
   "id": "fe64a78b",
   "metadata": {},
   "outputs": [
    {
     "data": {
      "text/plain": [
       "0    1.0\n",
       "1    2.0\n",
       "2    3.0\n",
       "3    NaN\n",
       "dtype: float64"
      ]
     },
     "execution_count": 7,
     "metadata": {},
     "output_type": "execute_result"
    }
   ],
   "source": [
    "numbers = [1, 2.0, 3, None]\n",
    "pd.Series(numbers)"
   ]
  },
  {
   "cell_type": "code",
   "execution_count": 11,
   "id": "95930dfa",
   "metadata": {},
   "outputs": [
    {
     "data": {
      "text/plain": [
       "False"
      ]
     },
     "execution_count": 11,
     "metadata": {},
     "output_type": "execute_result"
    }
   ],
   "source": [
    "np.nan == None\n",
    "np.nan == np.nan"
   ]
  },
  {
   "cell_type": "code",
   "execution_count": 12,
   "id": "b3627a25",
   "metadata": {},
   "outputs": [
    {
     "data": {
      "text/plain": [
       "True"
      ]
     },
     "execution_count": 12,
     "metadata": {},
     "output_type": "execute_result"
    }
   ],
   "source": [
    "# .isnan() function is used to check if there is NaN value in the Series\n",
    "np.isnan(np.nan)"
   ]
  },
  {
   "cell_type": "code",
   "execution_count": 15,
   "id": "f20274c5",
   "metadata": {},
   "outputs": [],
   "source": [
    "# We can create the index and value column for pandas series\n",
    "students_classes = {\"Tien\": \"English\",\n",
    "                   \"Bang\": \"English\",\n",
    "                   \"Di\": \"Mathematics\"}\n",
    "sc = pd.Series(students_classes)\n",
    "sc"
   ]
  },
  {
   "cell_type": "code",
   "execution_count": 18,
   "id": "6fdc2551",
   "metadata": {},
   "outputs": [
    {
     "name": "stdout",
     "output_type": "stream",
     "text": [
      "Index(['Tien', 'Bang', 'Di'], dtype='object')\n",
      "['English' 'English' 'Mathematics']\n",
      "object\n"
     ]
    }
   ],
   "source": [
    "print(sc.index)\n",
    "print(sc.values)\n",
    "print(sc.dtypes)"
   ]
  },
  {
   "cell_type": "code",
   "execution_count": 21,
   "id": "aab4cca6",
   "metadata": {},
   "outputs": [
    {
     "data": {
      "text/plain": [
       "1       {'Di': 9.5}\n",
       "2     {'Bang': 9.4}\n",
       "3    {'Tien': 9.42}\n",
       "dtype: object"
      ]
     },
     "execution_count": 21,
     "metadata": {},
     "output_type": "execute_result"
    }
   ],
   "source": [
    "students_scores = [{\"Di\": 9.5}, {\"Bang\": 9.40}, {\"Tien\": 9.42}]\n",
    "ss = pd.Series(students_scores, index=[1,2,3])\n",
    "ss"
   ]
  },
  {
   "cell_type": "code",
   "execution_count": 22,
   "id": "88b7dfad",
   "metadata": {
    "scrolled": true
   },
   "outputs": [
    {
     "data": {
      "text/plain": [
       "Tien        English\n",
       "Di      Mathematics\n",
       "Thuc            NaN\n",
       "dtype: object"
      ]
     },
     "execution_count": 22,
     "metadata": {},
     "output_type": "execute_result"
    }
   ],
   "source": [
    "# Here is an special example where there is an incomtibility between index of Series and index of the dictionary\n",
    "pd.Series(sc, index=[\"Tien\", \"Di\", \"Thuc\"])"
   ]
  },
  {
   "cell_type": "markdown",
   "id": "3972e34d",
   "metadata": {},
   "source": [
    "## Querying a Series"
   ]
  },
  {
   "cell_type": "code",
   "execution_count": 69,
   "id": "dbab225a",
   "metadata": {},
   "outputs": [
    {
     "name": "stdout",
     "output_type": "stream",
     "text": [
      "English\n",
      "English\n",
      "Mathematics\n",
      "Mathematics\n",
      "{'Di': 9.5}\n",
      "{'Di': 9.5}\n",
      "Tien        English\n",
      "Bang        English\n",
      "Di      Mathematics\n",
      "Thuc           Math\n",
      "dtype: object\n"
     ]
    }
   ],
   "source": [
    "# Way 1: Query by numeric location: starting at 0 => iloc attribute\n",
    "print(sc.iloc[0])\n",
    "print(sc[0])\n",
    "# Way 2: Query by index label => loc attribute\n",
    "print(sc.loc[\"Di\"])\n",
    "print(sc[\"Di\"])\n",
    "# Here is the problem come in when you don't use the loc and iloc attribute\n",
    "print(ss.loc[1])\n",
    "print(ss.iloc[0])\n",
    "# print(ss[0]) !!!\n",
    "# With loc attribute, you are not only able to output the record, but can also add new records into the series if the label is not recognized\n",
    "sc.loc[\"Thuc\"] = \"Math\"\n",
    "print(sc)"
   ]
  },
  {
   "cell_type": "code",
   "execution_count": 79,
   "id": "c2c690f5",
   "metadata": {},
   "outputs": [
    {
     "name": "stdout",
     "output_type": "stream",
     "text": [
      "Tien         English\n",
      "Bang         English\n",
      "Di       Mathematics\n",
      "Thuc            Math\n",
      "Nhien        English\n",
      "Nhien      Chemistry\n",
      "Nhien        Physics\n",
      "dtype: object\n",
      "Nhien      English\n",
      "Nhien    Chemistry\n",
      "Nhien      Physics\n",
      "dtype: object\n"
     ]
    },
    {
     "name": "stderr",
     "output_type": "stream",
     "text": [
      "C:\\Users\\AD\\AppData\\Local\\Temp\\ipykernel_664\\2386824782.py:2: FutureWarning: The series.append method is deprecated and will be removed from pandas in a future version. Use pandas.concat instead.\n",
      "  alls = sc.append(nhien_classes)\n"
     ]
    }
   ],
   "source": [
    "nhien_classes = pd.Series([\"English\", \"Chemistry\", \"Physics\"], index=[\"Nhien\",\"Nhien\", \"Nhien\"])\n",
    "alls = sc.append(nhien_classes)\n",
    "print(alls)\n",
    "print(alls.loc[\"Nhien\"])"
   ]
  },
  {
   "cell_type": "code",
   "execution_count": 78,
   "id": "b3e4e101",
   "metadata": {},
   "outputs": [
    {
     "data": {
      "text/plain": [
       "Tien        English\n",
       "Bang        English\n",
       "Di      Mathematics\n",
       "Thuc           Math\n",
       "dtype: object"
      ]
     },
     "execution_count": 78,
     "metadata": {},
     "output_type": "execute_result"
    }
   ],
   "source": [
    "sc"
   ]
  },
  {
   "cell_type": "markdown",
   "id": "d38cc855",
   "metadata": {},
   "source": [
    "## Series Calculations"
   ]
  },
  {
   "cell_type": "code",
   "execution_count": 41,
   "id": "3235a19e",
   "metadata": {},
   "outputs": [
    {
     "data": {
      "text/plain": [
       "0     57\n",
       "1    319\n",
       "2    982\n",
       "3    458\n",
       "4    448\n",
       "5    828\n",
       "6    770\n",
       "7    949\n",
       "8    854\n",
       "9    673\n",
       "dtype: int32"
      ]
     },
     "execution_count": 41,
     "metadata": {},
     "output_type": "execute_result"
    }
   ],
   "source": [
    "a = pd.Series(np.random.randint(0,1000,10000))\n",
    "a.head(10)"
   ]
  },
  {
   "cell_type": "code",
   "execution_count": 40,
   "id": "7a882dde",
   "metadata": {},
   "outputs": [
    {
     "data": {
      "text/plain": [
       "508.3133"
      ]
     },
     "execution_count": 40,
     "metadata": {},
     "output_type": "execute_result"
    }
   ],
   "source": [
    "avg = np.sum(a)/len(a)\n",
    "avg"
   ]
  },
  {
   "cell_type": "code",
   "execution_count": 44,
   "id": "4169cec0",
   "metadata": {},
   "outputs": [],
   "source": [
    "# Cellular magic functions start with %%\n",
    "# Eg: timeit magic function to determine on average how long it takes to run through the code"
   ]
  },
  {
   "cell_type": "code",
   "execution_count": 49,
   "id": "c42d5a11",
   "metadata": {},
   "outputs": [
    {
     "name": "stdout",
     "output_type": "stream",
     "text": [
      "3.12 ms ± 301 µs per loop (mean ± std. dev. of 7 runs, 100 loops each)\n"
     ]
    }
   ],
   "source": [
    "%%timeit -n 100\n",
    "total = 0\n",
    "for each in a:\n",
    "    total += each\n",
    "total/len(a)"
   ]
  },
  {
   "cell_type": "code",
   "execution_count": 51,
   "id": "67ec5205",
   "metadata": {},
   "outputs": [
    {
     "name": "stdout",
     "output_type": "stream",
     "text": [
      "156 µs ± 51.2 µs per loop (mean ± std. dev. of 7 runs, 100 loops each)\n"
     ]
    }
   ],
   "source": [
    "%%timeit -n 100\n",
    "np.sum(a)/len(a)"
   ]
  },
  {
   "cell_type": "markdown",
   "id": "0395515a",
   "metadata": {},
   "source": [
    "The above method is vectorization. It is the ability for a computer to execute multiple instructions at once => hight performance and dramatic speedups.\n",
    "Using such a function can help in minimizing the running time of code efficiently."
   ]
  },
  {
   "cell_type": "code",
   "execution_count": 52,
   "id": "a934dc44",
   "metadata": {},
   "outputs": [
    {
     "name": "stdout",
     "output_type": "stream",
     "text": [
      "0     57\n",
      "1    319\n",
      "2    982\n",
      "3    458\n",
      "4    448\n",
      "5    828\n",
      "6    770\n",
      "7    949\n",
      "8    854\n",
      "9    673\n",
      "dtype: int32\n",
      "0     59\n",
      "1    321\n",
      "2    984\n",
      "3    460\n",
      "4    450\n",
      "5    830\n",
      "6    772\n",
      "7    951\n",
      "8    856\n",
      "9    675\n",
      "dtype: int32\n"
     ]
    }
   ],
   "source": [
    "print(a.head(10))\n",
    "a+=2\n",
    "print(a.head(10))"
   ]
  },
  {
   "cell_type": "markdown",
   "id": "6da1ea95",
   "metadata": {},
   "source": [
    "The next mathod of numpy and pandas is broadcasting. We can apply an operation to every value in the series and change it."
   ]
  },
  {
   "cell_type": "code",
   "execution_count": 66,
   "id": "99ce527c",
   "metadata": {},
   "outputs": [
    {
     "data": {
      "text/plain": [
       "0     61\n",
       "1    323\n",
       "2    986\n",
       "3    462\n",
       "4    452\n",
       "5    832\n",
       "6    774\n",
       "7    953\n",
       "8    858\n",
       "9    677\n",
       "dtype: int32"
      ]
     },
     "execution_count": 66,
     "metadata": {},
     "output_type": "execute_result"
    }
   ],
   "source": [
    "# iteritems() helps us to unpack each item in the whole series easily\n",
    "for label, value in a.iteritems():\n",
    "    a.at[label]+=1\n",
    "a.head(10)"
   ]
  },
  {
   "cell_type": "markdown",
   "id": "91752986",
   "metadata": {},
   "source": [
    "# The DataFrame Data Structure"
   ]
  },
  {
   "cell_type": "code",
   "execution_count": 15,
   "id": "2c448619",
   "metadata": {},
   "outputs": [],
   "source": [
    "# The DataFram data structure is a 2-dimensional series object, where there is an index and multiple columns of content\n",
    "record1 = pd.Series({\"Name\": \"Tien\",\n",
    "                        \"Class\": \"Data Analytics\",\n",
    "                        \"Score\": 95})\n",
    "record2 = pd.Series({\"Name\": \"Di\",\n",
    "                        \"Class\": \"Architecture\",\n",
    "                        \"Score\": 98})\n",
    "record3 = pd.Series({\"Name\": \"Bang\",\n",
    "                        \"Class\": \"Communication\",\n",
    "                        \"Score\": 94})\n",
    "df = pd.DataFrame([record1, record2, record3], index=[\"school1\", \"school2\", \"school1\"])"
   ]
  },
  {
   "cell_type": "code",
   "execution_count": 16,
   "id": "1bb54210",
   "metadata": {},
   "outputs": [
    {
     "data": {
      "text/html": [
       "<div>\n",
       "<style scoped>\n",
       "    .dataframe tbody tr th:only-of-type {\n",
       "        vertical-align: middle;\n",
       "    }\n",
       "\n",
       "    .dataframe tbody tr th {\n",
       "        vertical-align: top;\n",
       "    }\n",
       "\n",
       "    .dataframe thead th {\n",
       "        text-align: right;\n",
       "    }\n",
       "</style>\n",
       "<table border=\"1\" class=\"dataframe\">\n",
       "  <thead>\n",
       "    <tr style=\"text-align: right;\">\n",
       "      <th></th>\n",
       "      <th>Name</th>\n",
       "      <th>Class</th>\n",
       "      <th>Score</th>\n",
       "    </tr>\n",
       "  </thead>\n",
       "  <tbody>\n",
       "    <tr>\n",
       "      <th>school1</th>\n",
       "      <td>Tien</td>\n",
       "      <td>Data Analytics</td>\n",
       "      <td>95</td>\n",
       "    </tr>\n",
       "    <tr>\n",
       "      <th>school2</th>\n",
       "      <td>Di</td>\n",
       "      <td>Architecture</td>\n",
       "      <td>98</td>\n",
       "    </tr>\n",
       "    <tr>\n",
       "      <th>school1</th>\n",
       "      <td>Bang</td>\n",
       "      <td>Communication</td>\n",
       "      <td>94</td>\n",
       "    </tr>\n",
       "  </tbody>\n",
       "</table>\n",
       "</div>"
      ],
      "text/plain": [
       "         Name           Class  Score\n",
       "school1  Tien  Data Analytics     95\n",
       "school2    Di    Architecture     98\n",
       "school1  Bang   Communication     94"
      ]
     },
     "execution_count": 16,
     "metadata": {},
     "output_type": "execute_result"
    }
   ],
   "source": [
    "df"
   ]
  },
  {
   "cell_type": "code",
   "execution_count": 17,
   "id": "8eceefd1",
   "metadata": {},
   "outputs": [
    {
     "data": {
      "text/plain": [
       "Class    Architecture\n",
       "Score              98\n",
       "Name: school2, dtype: object"
      ]
     },
     "execution_count": 17,
     "metadata": {},
     "output_type": "execute_result"
    }
   ],
   "source": [
    "# Data Extraction in DataFrame rely on loc[] and iloc[] with 2 argument corresponds to the 2 dimensions.\n",
    "df.iloc[1,1:]"
   ]
  },
  {
   "cell_type": "code",
   "execution_count": 34,
   "id": "476376b4",
   "metadata": {},
   "outputs": [
    {
     "name": "stdout",
     "output_type": "stream",
     "text": [
      "         Name           Class  Score\n",
      "school1  Tien  Data Analytics     95\n",
      "school1  Bang   Communication     94\n",
      "<class 'pandas.core.frame.DataFrame'>\n",
      "<class 'pandas.core.series.Series'>\n",
      "school1    Tien\n",
      "school2      Di\n",
      "school1    Bang\n",
      "Name: Name, dtype: object\n"
     ]
    }
   ],
   "source": [
    "print(df.loc[\"school1\"])\n",
    "print(type(df.loc[\"school1\"]))\n",
    "print(type(df.loc[\"school2\"]))\n",
    "# We can also use the bracket notation for selecting data by column. With loc[], we can only use it for row or row and column extraction\n",
    "print(df[\"Name\"])"
   ]
  },
  {
   "cell_type": "code",
   "execution_count": 24,
   "id": "9c752214",
   "metadata": {},
   "outputs": [
    {
     "data": {
      "text/plain": [
       "school1    Tien\n",
       "school1    Bang\n",
       "Name: Name, dtype: object"
      ]
     },
     "execution_count": 24,
     "metadata": {},
     "output_type": "execute_result"
    }
   ],
   "source": [
    "# With loc[], you can only use index name and column name to extract data. It won't work if you try to use the default index value\n",
    "df.loc[\"school1\", \"Name\"]"
   ]
  },
  {
   "cell_type": "code",
   "execution_count": 25,
   "id": "653db259",
   "metadata": {},
   "outputs": [
    {
     "data": {
      "text/html": [
       "<div>\n",
       "<style scoped>\n",
       "    .dataframe tbody tr th:only-of-type {\n",
       "        vertical-align: middle;\n",
       "    }\n",
       "\n",
       "    .dataframe tbody tr th {\n",
       "        vertical-align: top;\n",
       "    }\n",
       "\n",
       "    .dataframe thead th {\n",
       "        text-align: right;\n",
       "    }\n",
       "</style>\n",
       "<table border=\"1\" class=\"dataframe\">\n",
       "  <thead>\n",
       "    <tr style=\"text-align: right;\">\n",
       "      <th></th>\n",
       "      <th>school1</th>\n",
       "      <th>school2</th>\n",
       "      <th>school1</th>\n",
       "    </tr>\n",
       "  </thead>\n",
       "  <tbody>\n",
       "    <tr>\n",
       "      <th>Name</th>\n",
       "      <td>Tien</td>\n",
       "      <td>Di</td>\n",
       "      <td>Bang</td>\n",
       "    </tr>\n",
       "    <tr>\n",
       "      <th>Class</th>\n",
       "      <td>Data Analytics</td>\n",
       "      <td>Architecture</td>\n",
       "      <td>Communication</td>\n",
       "    </tr>\n",
       "    <tr>\n",
       "      <th>Score</th>\n",
       "      <td>95</td>\n",
       "      <td>98</td>\n",
       "      <td>94</td>\n",
       "    </tr>\n",
       "  </tbody>\n",
       "</table>\n",
       "</div>"
      ],
      "text/plain": [
       "              school1       school2        school1\n",
       "Name             Tien            Di           Bang\n",
       "Class  Data Analytics  Architecture  Communication\n",
       "Score              95            98             94"
      ]
     },
     "execution_count": 25,
     "metadata": {},
     "output_type": "execute_result"
    }
   ],
   "source": [
    "# Transpose will pivot all the rows into columns and vice versa.\n",
    "df.T"
   ]
  },
  {
   "cell_type": "code",
   "execution_count": 29,
   "id": "cc802b53",
   "metadata": {},
   "outputs": [
    {
     "data": {
      "text/plain": [
       "school1    Tien\n",
       "school2      Di\n",
       "school1    Bang\n",
       "Name: Name, dtype: object"
      ]
     },
     "execution_count": 29,
     "metadata": {},
     "output_type": "execute_result"
    }
   ],
   "source": [
    "df.T.loc[\"Name\"]"
   ]
  },
  {
   "cell_type": "code",
   "execution_count": 33,
   "id": "13d046eb",
   "metadata": {},
   "outputs": [
    {
     "data": {
      "text/plain": [
       "school1    Tien\n",
       "school1    Bang\n",
       "Name: Name, dtype: object"
      ]
     },
     "execution_count": 33,
     "metadata": {},
     "output_type": "execute_result"
    }
   ],
   "source": [
    "# Using the chain operation to take output of the previous extraction to be the input of the next selection. \n",
    "df.loc['school1'][\"Name\"]"
   ]
  },
  {
   "cell_type": "code",
   "execution_count": 35,
   "id": "35003e08",
   "metadata": {},
   "outputs": [
    {
     "data": {
      "text/plain": [
       "school1    Data Analytics\n",
       "school2      Architecture\n",
       "school1     Communication\n",
       "Name: Class, dtype: object"
      ]
     },
     "execution_count": 35,
     "metadata": {},
     "output_type": "execute_result"
    }
   ],
   "source": [
    "# loc[] can also be used for sling with :\n",
    "df.loc[:,\"Class\"]"
   ]
  },
  {
   "cell_type": "code",
   "execution_count": 39,
   "id": "d1824594",
   "metadata": {},
   "outputs": [
    {
     "data": {
      "text/html": [
       "<div>\n",
       "<style scoped>\n",
       "    .dataframe tbody tr th:only-of-type {\n",
       "        vertical-align: middle;\n",
       "    }\n",
       "\n",
       "    .dataframe tbody tr th {\n",
       "        vertical-align: top;\n",
       "    }\n",
       "\n",
       "    .dataframe thead th {\n",
       "        text-align: right;\n",
       "    }\n",
       "</style>\n",
       "<table border=\"1\" class=\"dataframe\">\n",
       "  <thead>\n",
       "    <tr style=\"text-align: right;\">\n",
       "      <th></th>\n",
       "      <th>Name</th>\n",
       "      <th>Class</th>\n",
       "    </tr>\n",
       "  </thead>\n",
       "  <tbody>\n",
       "    <tr>\n",
       "      <th>school1</th>\n",
       "      <td>Tien</td>\n",
       "      <td>Data Analytics</td>\n",
       "    </tr>\n",
       "    <tr>\n",
       "      <th>school1</th>\n",
       "      <td>Bang</td>\n",
       "      <td>Communication</td>\n",
       "    </tr>\n",
       "  </tbody>\n",
       "</table>\n",
       "</div>"
      ],
      "text/plain": [
       "         Name           Class\n",
       "school1  Tien  Data Analytics\n",
       "school1  Bang   Communication"
      ]
     },
     "execution_count": 39,
     "metadata": {},
     "output_type": "execute_result"
    }
   ],
   "source": [
    "df.loc[\"school1\", :\"Class\"]"
   ]
  },
  {
   "cell_type": "code",
   "execution_count": 46,
   "id": "976203b8",
   "metadata": {},
   "outputs": [
    {
     "data": {
      "text/html": [
       "<div>\n",
       "<style scoped>\n",
       "    .dataframe tbody tr th:only-of-type {\n",
       "        vertical-align: middle;\n",
       "    }\n",
       "\n",
       "    .dataframe tbody tr th {\n",
       "        vertical-align: top;\n",
       "    }\n",
       "\n",
       "    .dataframe thead th {\n",
       "        text-align: right;\n",
       "    }\n",
       "</style>\n",
       "<table border=\"1\" class=\"dataframe\">\n",
       "  <thead>\n",
       "    <tr style=\"text-align: right;\">\n",
       "      <th></th>\n",
       "      <th>Name</th>\n",
       "      <th>Class</th>\n",
       "      <th>Score</th>\n",
       "    </tr>\n",
       "  </thead>\n",
       "  <tbody>\n",
       "    <tr>\n",
       "      <th>school1</th>\n",
       "      <td>Tien</td>\n",
       "      <td>Data Analytics</td>\n",
       "      <td>95</td>\n",
       "    </tr>\n",
       "    <tr>\n",
       "      <th>school1</th>\n",
       "      <td>Bang</td>\n",
       "      <td>Communication</td>\n",
       "      <td>94</td>\n",
       "    </tr>\n",
       "  </tbody>\n",
       "</table>\n",
       "</div>"
      ],
      "text/plain": [
       "         Name           Class  Score\n",
       "school1  Tien  Data Analytics     95\n",
       "school1  Bang   Communication     94"
      ]
     },
     "execution_count": 46,
     "metadata": {},
     "output_type": "execute_result"
    }
   ],
   "source": [
    "# To drop data, use the drop() function which will return you a copy of the dataframe with data removed. The original DataFrame remains intact\n",
    "df.drop(\"school2\")"
   ]
  },
  {
   "cell_type": "code",
   "execution_count": 41,
   "id": "4e49fc35",
   "metadata": {},
   "outputs": [
    {
     "data": {
      "text/html": [
       "<div>\n",
       "<style scoped>\n",
       "    .dataframe tbody tr th:only-of-type {\n",
       "        vertical-align: middle;\n",
       "    }\n",
       "\n",
       "    .dataframe tbody tr th {\n",
       "        vertical-align: top;\n",
       "    }\n",
       "\n",
       "    .dataframe thead th {\n",
       "        text-align: right;\n",
       "    }\n",
       "</style>\n",
       "<table border=\"1\" class=\"dataframe\">\n",
       "  <thead>\n",
       "    <tr style=\"text-align: right;\">\n",
       "      <th></th>\n",
       "      <th>Name</th>\n",
       "      <th>Class</th>\n",
       "      <th>Score</th>\n",
       "    </tr>\n",
       "  </thead>\n",
       "  <tbody>\n",
       "    <tr>\n",
       "      <th>school1</th>\n",
       "      <td>Tien</td>\n",
       "      <td>Data Analytics</td>\n",
       "      <td>95</td>\n",
       "    </tr>\n",
       "    <tr>\n",
       "      <th>school2</th>\n",
       "      <td>Di</td>\n",
       "      <td>Architecture</td>\n",
       "      <td>98</td>\n",
       "    </tr>\n",
       "    <tr>\n",
       "      <th>school1</th>\n",
       "      <td>Bang</td>\n",
       "      <td>Communication</td>\n",
       "      <td>94</td>\n",
       "    </tr>\n",
       "  </tbody>\n",
       "</table>\n",
       "</div>"
      ],
      "text/plain": [
       "         Name           Class  Score\n",
       "school1  Tien  Data Analytics     95\n",
       "school2    Di    Architecture     98\n",
       "school1  Bang   Communication     94"
      ]
     },
     "execution_count": 41,
     "metadata": {},
     "output_type": "execute_result"
    }
   ],
   "source": [
    "df"
   ]
  },
  {
   "cell_type": "code",
   "execution_count": 61,
   "id": "161adbf4",
   "metadata": {},
   "outputs": [],
   "source": [
    "copy_df = df.copy()\n",
    "copy_df.drop(\"Name\", inplace=True, axis=1)"
   ]
  },
  {
   "cell_type": "code",
   "execution_count": 62,
   "id": "497d20a1",
   "metadata": {},
   "outputs": [
    {
     "data": {
      "text/html": [
       "<div>\n",
       "<style scoped>\n",
       "    .dataframe tbody tr th:only-of-type {\n",
       "        vertical-align: middle;\n",
       "    }\n",
       "\n",
       "    .dataframe tbody tr th {\n",
       "        vertical-align: top;\n",
       "    }\n",
       "\n",
       "    .dataframe thead th {\n",
       "        text-align: right;\n",
       "    }\n",
       "</style>\n",
       "<table border=\"1\" class=\"dataframe\">\n",
       "  <thead>\n",
       "    <tr style=\"text-align: right;\">\n",
       "      <th></th>\n",
       "      <th>Class</th>\n",
       "      <th>Score</th>\n",
       "    </tr>\n",
       "  </thead>\n",
       "  <tbody>\n",
       "    <tr>\n",
       "      <th>school1</th>\n",
       "      <td>Data Analytics</td>\n",
       "      <td>95</td>\n",
       "    </tr>\n",
       "    <tr>\n",
       "      <th>school2</th>\n",
       "      <td>Architecture</td>\n",
       "      <td>98</td>\n",
       "    </tr>\n",
       "    <tr>\n",
       "      <th>school1</th>\n",
       "      <td>Communication</td>\n",
       "      <td>94</td>\n",
       "    </tr>\n",
       "  </tbody>\n",
       "</table>\n",
       "</div>"
      ],
      "text/plain": [
       "                  Class  Score\n",
       "school1  Data Analytics     95\n",
       "school2    Architecture     98\n",
       "school1   Communication     94"
      ]
     },
     "execution_count": 62,
     "metadata": {},
     "output_type": "execute_result"
    }
   ],
   "source": [
    "copy_df"
   ]
  },
  {
   "cell_type": "code",
   "execution_count": 63,
   "id": "e09d4842",
   "metadata": {},
   "outputs": [
    {
     "data": {
      "text/html": [
       "<div>\n",
       "<style scoped>\n",
       "    .dataframe tbody tr th:only-of-type {\n",
       "        vertical-align: middle;\n",
       "    }\n",
       "\n",
       "    .dataframe tbody tr th {\n",
       "        vertical-align: top;\n",
       "    }\n",
       "\n",
       "    .dataframe thead th {\n",
       "        text-align: right;\n",
       "    }\n",
       "</style>\n",
       "<table border=\"1\" class=\"dataframe\">\n",
       "  <thead>\n",
       "    <tr style=\"text-align: right;\">\n",
       "      <th></th>\n",
       "      <th>Class</th>\n",
       "      <th>Score</th>\n",
       "    </tr>\n",
       "  </thead>\n",
       "  <tbody>\n",
       "    <tr>\n",
       "      <th>school2</th>\n",
       "      <td>Architecture</td>\n",
       "      <td>98</td>\n",
       "    </tr>\n",
       "  </tbody>\n",
       "</table>\n",
       "</div>"
      ],
      "text/plain": [
       "                Class  Score\n",
       "school2  Architecture     98"
      ]
     },
     "execution_count": 63,
     "metadata": {},
     "output_type": "execute_result"
    }
   ],
   "source": [
    "copy_df.drop(\"school1\", inplace=False, axis=0)"
   ]
  },
  {
   "cell_type": "code",
   "execution_count": 64,
   "id": "a498a42e",
   "metadata": {},
   "outputs": [
    {
     "data": {
      "text/html": [
       "<div>\n",
       "<style scoped>\n",
       "    .dataframe tbody tr th:only-of-type {\n",
       "        vertical-align: middle;\n",
       "    }\n",
       "\n",
       "    .dataframe tbody tr th {\n",
       "        vertical-align: top;\n",
       "    }\n",
       "\n",
       "    .dataframe thead th {\n",
       "        text-align: right;\n",
       "    }\n",
       "</style>\n",
       "<table border=\"1\" class=\"dataframe\">\n",
       "  <thead>\n",
       "    <tr style=\"text-align: right;\">\n",
       "      <th></th>\n",
       "      <th>Class</th>\n",
       "      <th>Score</th>\n",
       "    </tr>\n",
       "  </thead>\n",
       "  <tbody>\n",
       "    <tr>\n",
       "      <th>school1</th>\n",
       "      <td>Data Analytics</td>\n",
       "      <td>95</td>\n",
       "    </tr>\n",
       "    <tr>\n",
       "      <th>school2</th>\n",
       "      <td>Architecture</td>\n",
       "      <td>98</td>\n",
       "    </tr>\n",
       "    <tr>\n",
       "      <th>school1</th>\n",
       "      <td>Communication</td>\n",
       "      <td>94</td>\n",
       "    </tr>\n",
       "  </tbody>\n",
       "</table>\n",
       "</div>"
      ],
      "text/plain": [
       "                  Class  Score\n",
       "school1  Data Analytics     95\n",
       "school2    Architecture     98\n",
       "school1   Communication     94"
      ]
     },
     "execution_count": 64,
     "metadata": {},
     "output_type": "execute_result"
    }
   ],
   "source": [
    "copy_df"
   ]
  },
  {
   "cell_type": "code",
   "execution_count": 65,
   "id": "7a6facfc",
   "metadata": {},
   "outputs": [
    {
     "data": {
      "text/html": [
       "<div>\n",
       "<style scoped>\n",
       "    .dataframe tbody tr th:only-of-type {\n",
       "        vertical-align: middle;\n",
       "    }\n",
       "\n",
       "    .dataframe tbody tr th {\n",
       "        vertical-align: top;\n",
       "    }\n",
       "\n",
       "    .dataframe thead th {\n",
       "        text-align: right;\n",
       "    }\n",
       "</style>\n",
       "<table border=\"1\" class=\"dataframe\">\n",
       "  <thead>\n",
       "    <tr style=\"text-align: right;\">\n",
       "      <th></th>\n",
       "      <th>Class</th>\n",
       "    </tr>\n",
       "  </thead>\n",
       "  <tbody>\n",
       "    <tr>\n",
       "      <th>school1</th>\n",
       "      <td>Data Analytics</td>\n",
       "    </tr>\n",
       "    <tr>\n",
       "      <th>school2</th>\n",
       "      <td>Architecture</td>\n",
       "    </tr>\n",
       "    <tr>\n",
       "      <th>school1</th>\n",
       "      <td>Communication</td>\n",
       "    </tr>\n",
       "  </tbody>\n",
       "</table>\n",
       "</div>"
      ],
      "text/plain": [
       "                  Class\n",
       "school1  Data Analytics\n",
       "school2    Architecture\n",
       "school1   Communication"
      ]
     },
     "execution_count": 65,
     "metadata": {},
     "output_type": "execute_result"
    }
   ],
   "source": [
    "# Another fiercer way to drop a column is to use the del keyword. This will have immediate effect on the df with the specified column removed\n",
    "del copy_df[\"Score\"]\n",
    "copy_df\n",
    "# del copy_df[\"school2\"] del can't be used to drop rows"
   ]
  },
  {
   "cell_type": "code",
   "execution_count": 66,
   "id": "ccde5713",
   "metadata": {},
   "outputs": [
    {
     "data": {
      "text/html": [
       "<div>\n",
       "<style scoped>\n",
       "    .dataframe tbody tr th:only-of-type {\n",
       "        vertical-align: middle;\n",
       "    }\n",
       "\n",
       "    .dataframe tbody tr th {\n",
       "        vertical-align: top;\n",
       "    }\n",
       "\n",
       "    .dataframe thead th {\n",
       "        text-align: right;\n",
       "    }\n",
       "</style>\n",
       "<table border=\"1\" class=\"dataframe\">\n",
       "  <thead>\n",
       "    <tr style=\"text-align: right;\">\n",
       "      <th></th>\n",
       "      <th>Name</th>\n",
       "      <th>Class</th>\n",
       "      <th>Score</th>\n",
       "      <th>Class Ranks</th>\n",
       "    </tr>\n",
       "  </thead>\n",
       "  <tbody>\n",
       "    <tr>\n",
       "      <th>school1</th>\n",
       "      <td>Tien</td>\n",
       "      <td>Data Analytics</td>\n",
       "      <td>95</td>\n",
       "      <td>1</td>\n",
       "    </tr>\n",
       "    <tr>\n",
       "      <th>school2</th>\n",
       "      <td>Di</td>\n",
       "      <td>Architecture</td>\n",
       "      <td>98</td>\n",
       "      <td>2</td>\n",
       "    </tr>\n",
       "    <tr>\n",
       "      <th>school1</th>\n",
       "      <td>Bang</td>\n",
       "      <td>Communication</td>\n",
       "      <td>94</td>\n",
       "      <td>3</td>\n",
       "    </tr>\n",
       "  </tbody>\n",
       "</table>\n",
       "</div>"
      ],
      "text/plain": [
       "         Name           Class  Score  Class Ranks\n",
       "school1  Tien  Data Analytics     95            1\n",
       "school2    Di    Architecture     98            2\n",
       "school1  Bang   Communication     94            3"
      ]
     },
     "execution_count": 66,
     "metadata": {},
     "output_type": "execute_result"
    }
   ],
   "source": [
    "# We can easily create a new column with [] notation when pd df\n",
    "df[\"Class Ranks\"] = [1,2,3]\n",
    "df"
   ]
  },
  {
   "cell_type": "markdown",
   "id": "7c6a8445",
   "metadata": {},
   "source": [
    "## DataFrame Extraction"
   ]
  },
  {
   "cell_type": "code",
   "execution_count": 2,
   "id": "0f308d04",
   "metadata": {},
   "outputs": [
    {
     "data": {
      "text/html": [
       "<div>\n",
       "<style scoped>\n",
       "    .dataframe tbody tr th:only-of-type {\n",
       "        vertical-align: middle;\n",
       "    }\n",
       "\n",
       "    .dataframe tbody tr th {\n",
       "        vertical-align: top;\n",
       "    }\n",
       "\n",
       "    .dataframe thead th {\n",
       "        text-align: right;\n",
       "    }\n",
       "</style>\n",
       "<table border=\"1\" class=\"dataframe\">\n",
       "  <thead>\n",
       "    <tr style=\"text-align: right;\">\n",
       "      <th></th>\n",
       "      <th>GRE Score</th>\n",
       "      <th>TOEFL Score</th>\n",
       "      <th>University Rate</th>\n",
       "      <th>Research</th>\n",
       "      <th>Admission Rate</th>\n",
       "    </tr>\n",
       "  </thead>\n",
       "  <tbody>\n",
       "    <tr>\n",
       "      <th>1</th>\n",
       "      <td>155.0</td>\n",
       "      <td>82.0</td>\n",
       "      <td>3.0</td>\n",
       "      <td>2.0</td>\n",
       "      <td>90.0</td>\n",
       "    </tr>\n",
       "    <tr>\n",
       "      <th>2</th>\n",
       "      <td>103.0</td>\n",
       "      <td>91.0</td>\n",
       "      <td>3.0</td>\n",
       "      <td>3.0</td>\n",
       "      <td>84.0</td>\n",
       "    </tr>\n",
       "    <tr>\n",
       "      <th>3</th>\n",
       "      <td>156.0</td>\n",
       "      <td>91.0</td>\n",
       "      <td>1.0</td>\n",
       "      <td>4.0</td>\n",
       "      <td>57.0</td>\n",
       "    </tr>\n",
       "    <tr>\n",
       "      <th>4</th>\n",
       "      <td>154.0</td>\n",
       "      <td>92.0</td>\n",
       "      <td>3.0</td>\n",
       "      <td>4.0</td>\n",
       "      <td>88.0</td>\n",
       "    </tr>\n",
       "    <tr>\n",
       "      <th>5</th>\n",
       "      <td>104.0</td>\n",
       "      <td>73.0</td>\n",
       "      <td>2.0</td>\n",
       "      <td>2.0</td>\n",
       "      <td>56.0</td>\n",
       "    </tr>\n",
       "  </tbody>\n",
       "</table>\n",
       "</div>"
      ],
      "text/plain": [
       "   GRE Score  TOEFL Score  University Rate  Research  Admission Rate\n",
       "1      155.0         82.0              3.0       2.0            90.0\n",
       "2      103.0         91.0              3.0       3.0            84.0\n",
       "3      156.0         91.0              1.0       4.0            57.0\n",
       "4      154.0         92.0              3.0       4.0            88.0\n",
       "5      104.0         73.0              2.0       2.0            56.0"
      ]
     },
     "execution_count": 2,
     "metadata": {},
     "output_type": "execute_result"
    }
   ],
   "source": [
    "# Lets create a bigger dataframe from many series to play with.\n",
    "gre = pd.Series(np.random.randint(70,170,100), name=\"GRE Score\") # you can specify the name of column right here or use the df.rename(columns={...})\n",
    "toefl = pd.Series(np.random.randint(70,120,100), name=\"TOEFL Score\") # to change column's names\n",
    "uni_rate = pd.Series(np.random.randint(1,4,100), name=\"University Rate\")\n",
    "research = pd.Series(np.random.randint(0,5,100), name=\"Research\")\n",
    "admission = pd.Series(np.random.randint(0,100,100), name=\"Admission Rate\")\n",
    "df_file = pd.concat([gre, toefl, uni_rate, research, admission], axis=1)\n",
    "df = pd.DataFrame(df_file, index=np.arange(1,101,1))\n",
    "df.head()"
   ]
  },
  {
   "cell_type": "code",
   "execution_count": 3,
   "id": "36f51f5b",
   "metadata": {},
   "outputs": [
    {
     "data": {
      "text/plain": [
       "['GRE Score', 'TOEFL Score', 'University Rate', 'Research', 'Admission Rate']"
      ]
     },
     "execution_count": 3,
     "metadata": {},
     "output_type": "execute_result"
    }
   ],
   "source": [
    "# Naming of columns\n",
    "cols = list(df.columns)\n",
    "cols"
   ]
  },
  {
   "cell_type": "code",
   "execution_count": 4,
   "id": "fe445b9e",
   "metadata": {},
   "outputs": [],
   "source": [
    "# the strip() function checks for uneccessary space in th left and right of a string and remove them.\n",
    "cols = [i.lower().strip() for i in cols]\n",
    "cols\n",
    "df.columns = cols"
   ]
  },
  {
   "cell_type": "code",
   "execution_count": 5,
   "id": "9b2be1eb",
   "metadata": {},
   "outputs": [
    {
     "data": {
      "text/html": [
       "<div>\n",
       "<style scoped>\n",
       "    .dataframe tbody tr th:only-of-type {\n",
       "        vertical-align: middle;\n",
       "    }\n",
       "\n",
       "    .dataframe tbody tr th {\n",
       "        vertical-align: top;\n",
       "    }\n",
       "\n",
       "    .dataframe thead th {\n",
       "        text-align: right;\n",
       "    }\n",
       "</style>\n",
       "<table border=\"1\" class=\"dataframe\">\n",
       "  <thead>\n",
       "    <tr style=\"text-align: right;\">\n",
       "      <th></th>\n",
       "      <th>gre score</th>\n",
       "      <th>toefl score</th>\n",
       "      <th>university rate</th>\n",
       "      <th>research</th>\n",
       "      <th>admission rate</th>\n",
       "    </tr>\n",
       "  </thead>\n",
       "  <tbody>\n",
       "    <tr>\n",
       "      <th>1</th>\n",
       "      <td>155.0</td>\n",
       "      <td>82.0</td>\n",
       "      <td>3.0</td>\n",
       "      <td>2.0</td>\n",
       "      <td>90.0</td>\n",
       "    </tr>\n",
       "    <tr>\n",
       "      <th>2</th>\n",
       "      <td>103.0</td>\n",
       "      <td>91.0</td>\n",
       "      <td>3.0</td>\n",
       "      <td>3.0</td>\n",
       "      <td>84.0</td>\n",
       "    </tr>\n",
       "    <tr>\n",
       "      <th>3</th>\n",
       "      <td>156.0</td>\n",
       "      <td>91.0</td>\n",
       "      <td>1.0</td>\n",
       "      <td>4.0</td>\n",
       "      <td>57.0</td>\n",
       "    </tr>\n",
       "    <tr>\n",
       "      <th>4</th>\n",
       "      <td>154.0</td>\n",
       "      <td>92.0</td>\n",
       "      <td>3.0</td>\n",
       "      <td>4.0</td>\n",
       "      <td>88.0</td>\n",
       "    </tr>\n",
       "    <tr>\n",
       "      <th>5</th>\n",
       "      <td>104.0</td>\n",
       "      <td>73.0</td>\n",
       "      <td>2.0</td>\n",
       "      <td>2.0</td>\n",
       "      <td>56.0</td>\n",
       "    </tr>\n",
       "    <tr>\n",
       "      <th>...</th>\n",
       "      <td>...</td>\n",
       "      <td>...</td>\n",
       "      <td>...</td>\n",
       "      <td>...</td>\n",
       "      <td>...</td>\n",
       "    </tr>\n",
       "    <tr>\n",
       "      <th>96</th>\n",
       "      <td>122.0</td>\n",
       "      <td>101.0</td>\n",
       "      <td>2.0</td>\n",
       "      <td>1.0</td>\n",
       "      <td>70.0</td>\n",
       "    </tr>\n",
       "    <tr>\n",
       "      <th>97</th>\n",
       "      <td>146.0</td>\n",
       "      <td>98.0</td>\n",
       "      <td>2.0</td>\n",
       "      <td>0.0</td>\n",
       "      <td>73.0</td>\n",
       "    </tr>\n",
       "    <tr>\n",
       "      <th>98</th>\n",
       "      <td>113.0</td>\n",
       "      <td>81.0</td>\n",
       "      <td>3.0</td>\n",
       "      <td>0.0</td>\n",
       "      <td>51.0</td>\n",
       "    </tr>\n",
       "    <tr>\n",
       "      <th>99</th>\n",
       "      <td>108.0</td>\n",
       "      <td>107.0</td>\n",
       "      <td>3.0</td>\n",
       "      <td>2.0</td>\n",
       "      <td>86.0</td>\n",
       "    </tr>\n",
       "    <tr>\n",
       "      <th>100</th>\n",
       "      <td>NaN</td>\n",
       "      <td>NaN</td>\n",
       "      <td>NaN</td>\n",
       "      <td>NaN</td>\n",
       "      <td>NaN</td>\n",
       "    </tr>\n",
       "  </tbody>\n",
       "</table>\n",
       "<p>100 rows × 5 columns</p>\n",
       "</div>"
      ],
      "text/plain": [
       "     gre score  toefl score  university rate  research  admission rate\n",
       "1        155.0         82.0              3.0       2.0            90.0\n",
       "2        103.0         91.0              3.0       3.0            84.0\n",
       "3        156.0         91.0              1.0       4.0            57.0\n",
       "4        154.0         92.0              3.0       4.0            88.0\n",
       "5        104.0         73.0              2.0       2.0            56.0\n",
       "..         ...          ...              ...       ...             ...\n",
       "96       122.0        101.0              2.0       1.0            70.0\n",
       "97       146.0         98.0              2.0       0.0            73.0\n",
       "98       113.0         81.0              3.0       0.0            51.0\n",
       "99       108.0        107.0              3.0       2.0            86.0\n",
       "100        NaN          NaN              NaN       NaN             NaN\n",
       "\n",
       "[100 rows x 5 columns]"
      ]
     },
     "execution_count": 5,
     "metadata": {},
     "output_type": "execute_result"
    }
   ],
   "source": [
    "df"
   ]
  },
  {
   "cell_type": "code",
   "execution_count": 6,
   "id": "b93dac7e",
   "metadata": {},
   "outputs": [
    {
     "data": {
      "text/html": [
       "<div>\n",
       "<style scoped>\n",
       "    .dataframe tbody tr th:only-of-type {\n",
       "        vertical-align: middle;\n",
       "    }\n",
       "\n",
       "    .dataframe tbody tr th {\n",
       "        vertical-align: top;\n",
       "    }\n",
       "\n",
       "    .dataframe thead th {\n",
       "        text-align: right;\n",
       "    }\n",
       "</style>\n",
       "<table border=\"1\" class=\"dataframe\">\n",
       "  <thead>\n",
       "    <tr style=\"text-align: right;\">\n",
       "      <th></th>\n",
       "      <th>gre score</th>\n",
       "      <th>toefl score</th>\n",
       "      <th>university rate</th>\n",
       "      <th>research</th>\n",
       "      <th>admission rate</th>\n",
       "      <th>average of gre and toefl</th>\n",
       "    </tr>\n",
       "  </thead>\n",
       "  <tbody>\n",
       "    <tr>\n",
       "      <th>1</th>\n",
       "      <td>155.0</td>\n",
       "      <td>82.0</td>\n",
       "      <td>3.0</td>\n",
       "      <td>2.0</td>\n",
       "      <td>90.0</td>\n",
       "      <td>118.5</td>\n",
       "    </tr>\n",
       "    <tr>\n",
       "      <th>2</th>\n",
       "      <td>103.0</td>\n",
       "      <td>91.0</td>\n",
       "      <td>3.0</td>\n",
       "      <td>3.0</td>\n",
       "      <td>84.0</td>\n",
       "      <td>97.0</td>\n",
       "    </tr>\n",
       "    <tr>\n",
       "      <th>3</th>\n",
       "      <td>156.0</td>\n",
       "      <td>91.0</td>\n",
       "      <td>1.0</td>\n",
       "      <td>4.0</td>\n",
       "      <td>57.0</td>\n",
       "      <td>123.5</td>\n",
       "    </tr>\n",
       "    <tr>\n",
       "      <th>4</th>\n",
       "      <td>154.0</td>\n",
       "      <td>92.0</td>\n",
       "      <td>3.0</td>\n",
       "      <td>4.0</td>\n",
       "      <td>88.0</td>\n",
       "      <td>123.0</td>\n",
       "    </tr>\n",
       "    <tr>\n",
       "      <th>5</th>\n",
       "      <td>104.0</td>\n",
       "      <td>73.0</td>\n",
       "      <td>2.0</td>\n",
       "      <td>2.0</td>\n",
       "      <td>56.0</td>\n",
       "      <td>88.5</td>\n",
       "    </tr>\n",
       "  </tbody>\n",
       "</table>\n",
       "</div>"
      ],
      "text/plain": [
       "   gre score  toefl score  university rate  research  admission rate  \\\n",
       "1      155.0         82.0              3.0       2.0            90.0   \n",
       "2      103.0         91.0              3.0       3.0            84.0   \n",
       "3      156.0         91.0              1.0       4.0            57.0   \n",
       "4      154.0         92.0              3.0       4.0            88.0   \n",
       "5      104.0         73.0              2.0       2.0            56.0   \n",
       "\n",
       "   average of gre and toefl  \n",
       "1                     118.5  \n",
       "2                      97.0  \n",
       "3                     123.5  \n",
       "4                     123.0  \n",
       "5                      88.5  "
      ]
     },
     "execution_count": 6,
     "metadata": {},
     "output_type": "execute_result"
    }
   ],
   "source": [
    "# Use the apply() function to apply a method to the dataframe and make changes\n",
    "def avg(row):\n",
    "    row[\"average of gre and toefl\"] = (row['gre score'] + row['toefl score']) / 2\n",
    "    return row\n",
    "df=df.apply(avg,axis='columns')\n",
    "df.head()"
   ]
  },
  {
   "cell_type": "code",
   "execution_count": 15,
   "id": "168189c8",
   "metadata": {},
   "outputs": [
    {
     "data": {
      "text/html": [
       "<div>\n",
       "<style scoped>\n",
       "    .dataframe tbody tr th:only-of-type {\n",
       "        vertical-align: middle;\n",
       "    }\n",
       "\n",
       "    .dataframe tbody tr th {\n",
       "        vertical-align: top;\n",
       "    }\n",
       "\n",
       "    .dataframe thead th {\n",
       "        text-align: right;\n",
       "    }\n",
       "</style>\n",
       "<table border=\"1\" class=\"dataframe\">\n",
       "  <thead>\n",
       "    <tr style=\"text-align: right;\">\n",
       "      <th></th>\n",
       "      <th>gre score</th>\n",
       "      <th>toefl score</th>\n",
       "      <th>university rate</th>\n",
       "      <th>research</th>\n",
       "      <th>admission rate</th>\n",
       "    </tr>\n",
       "  </thead>\n",
       "  <tbody>\n",
       "    <tr>\n",
       "      <th>6</th>\n",
       "      <td>150.0</td>\n",
       "      <td>81.0</td>\n",
       "      <td>2.0</td>\n",
       "      <td>4.0</td>\n",
       "      <td>99.0</td>\n",
       "    </tr>\n",
       "    <tr>\n",
       "      <th>13</th>\n",
       "      <td>103.0</td>\n",
       "      <td>108.0</td>\n",
       "      <td>3.0</td>\n",
       "      <td>3.0</td>\n",
       "      <td>92.0</td>\n",
       "    </tr>\n",
       "    <tr>\n",
       "      <th>17</th>\n",
       "      <td>99.0</td>\n",
       "      <td>73.0</td>\n",
       "      <td>3.0</td>\n",
       "      <td>0.0</td>\n",
       "      <td>94.0</td>\n",
       "    </tr>\n",
       "    <tr>\n",
       "      <th>23</th>\n",
       "      <td>81.0</td>\n",
       "      <td>113.0</td>\n",
       "      <td>2.0</td>\n",
       "      <td>0.0</td>\n",
       "      <td>92.0</td>\n",
       "    </tr>\n",
       "    <tr>\n",
       "      <th>33</th>\n",
       "      <td>112.0</td>\n",
       "      <td>90.0</td>\n",
       "      <td>2.0</td>\n",
       "      <td>3.0</td>\n",
       "      <td>89.0</td>\n",
       "    </tr>\n",
       "    <tr>\n",
       "      <th>41</th>\n",
       "      <td>155.0</td>\n",
       "      <td>91.0</td>\n",
       "      <td>3.0</td>\n",
       "      <td>1.0</td>\n",
       "      <td>88.0</td>\n",
       "    </tr>\n",
       "    <tr>\n",
       "      <th>47</th>\n",
       "      <td>75.0</td>\n",
       "      <td>89.0</td>\n",
       "      <td>3.0</td>\n",
       "      <td>3.0</td>\n",
       "      <td>88.0</td>\n",
       "    </tr>\n",
       "    <tr>\n",
       "      <th>52</th>\n",
       "      <td>113.0</td>\n",
       "      <td>84.0</td>\n",
       "      <td>3.0</td>\n",
       "      <td>0.0</td>\n",
       "      <td>93.0</td>\n",
       "    </tr>\n",
       "    <tr>\n",
       "      <th>53</th>\n",
       "      <td>77.0</td>\n",
       "      <td>89.0</td>\n",
       "      <td>1.0</td>\n",
       "      <td>3.0</td>\n",
       "      <td>86.0</td>\n",
       "    </tr>\n",
       "    <tr>\n",
       "      <th>56</th>\n",
       "      <td>96.0</td>\n",
       "      <td>83.0</td>\n",
       "      <td>1.0</td>\n",
       "      <td>2.0</td>\n",
       "      <td>93.0</td>\n",
       "    </tr>\n",
       "    <tr>\n",
       "      <th>62</th>\n",
       "      <td>138.0</td>\n",
       "      <td>90.0</td>\n",
       "      <td>1.0</td>\n",
       "      <td>1.0</td>\n",
       "      <td>94.0</td>\n",
       "    </tr>\n",
       "    <tr>\n",
       "      <th>69</th>\n",
       "      <td>93.0</td>\n",
       "      <td>101.0</td>\n",
       "      <td>3.0</td>\n",
       "      <td>0.0</td>\n",
       "      <td>97.0</td>\n",
       "    </tr>\n",
       "    <tr>\n",
       "      <th>96</th>\n",
       "      <td>84.0</td>\n",
       "      <td>74.0</td>\n",
       "      <td>2.0</td>\n",
       "      <td>1.0</td>\n",
       "      <td>95.0</td>\n",
       "    </tr>\n",
       "    <tr>\n",
       "      <th>97</th>\n",
       "      <td>104.0</td>\n",
       "      <td>109.0</td>\n",
       "      <td>1.0</td>\n",
       "      <td>0.0</td>\n",
       "      <td>92.0</td>\n",
       "    </tr>\n",
       "  </tbody>\n",
       "</table>\n",
       "</div>"
      ],
      "text/plain": [
       "    gre score  toefl score  university rate  research  admission rate\n",
       "6       150.0         81.0              2.0       4.0            99.0\n",
       "13      103.0        108.0              3.0       3.0            92.0\n",
       "17       99.0         73.0              3.0       0.0            94.0\n",
       "23       81.0        113.0              2.0       0.0            92.0\n",
       "33      112.0         90.0              2.0       3.0            89.0\n",
       "41      155.0         91.0              3.0       1.0            88.0\n",
       "47       75.0         89.0              3.0       3.0            88.0\n",
       "52      113.0         84.0              3.0       0.0            93.0\n",
       "53       77.0         89.0              1.0       3.0            86.0\n",
       "56       96.0         83.0              1.0       2.0            93.0\n",
       "62      138.0         90.0              1.0       1.0            94.0\n",
       "69       93.0        101.0              3.0       0.0            97.0\n",
       "96       84.0         74.0              2.0       1.0            95.0\n",
       "97      104.0        109.0              1.0       0.0            92.0"
      ]
     },
     "execution_count": 15,
     "metadata": {},
     "output_type": "execute_result"
    }
   ],
   "source": [
    "# Selecting data with conditions\n",
    "df[df[\"admission rate\"] > 85.0]"
   ]
  },
  {
   "cell_type": "code",
   "execution_count": 16,
   "id": "a0cf5b21",
   "metadata": {},
   "outputs": [
    {
     "data": {
      "text/plain": [
       "14"
      ]
     },
     "execution_count": 16,
     "metadata": {},
     "output_type": "execute_result"
    }
   ],
   "source": [
    "len(df[df[\"admission rate\"] > 85.0])"
   ]
  },
  {
   "cell_type": "code",
   "execution_count": 19,
   "id": "c36c51e4",
   "metadata": {},
   "outputs": [],
   "source": [
    "# Building Boolean Masking\n",
    "admission_masked = df['admission rate'] > 85.0"
   ]
  },
  {
   "cell_type": "code",
   "execution_count": 24,
   "id": "da3c2baf",
   "metadata": {},
   "outputs": [
    {
     "data": {
      "text/html": [
       "<div>\n",
       "<style scoped>\n",
       "    .dataframe tbody tr th:only-of-type {\n",
       "        vertical-align: middle;\n",
       "    }\n",
       "\n",
       "    .dataframe tbody tr th {\n",
       "        vertical-align: top;\n",
       "    }\n",
       "\n",
       "    .dataframe thead th {\n",
       "        text-align: right;\n",
       "    }\n",
       "</style>\n",
       "<table border=\"1\" class=\"dataframe\">\n",
       "  <thead>\n",
       "    <tr style=\"text-align: right;\">\n",
       "      <th></th>\n",
       "      <th>gre score</th>\n",
       "      <th>toefl score</th>\n",
       "      <th>university rate</th>\n",
       "      <th>research</th>\n",
       "      <th>admission rate</th>\n",
       "    </tr>\n",
       "  </thead>\n",
       "  <tbody>\n",
       "    <tr>\n",
       "      <th>1</th>\n",
       "      <td>NaN</td>\n",
       "      <td>NaN</td>\n",
       "      <td>NaN</td>\n",
       "      <td>NaN</td>\n",
       "      <td>NaN</td>\n",
       "    </tr>\n",
       "    <tr>\n",
       "      <th>2</th>\n",
       "      <td>NaN</td>\n",
       "      <td>NaN</td>\n",
       "      <td>NaN</td>\n",
       "      <td>NaN</td>\n",
       "      <td>NaN</td>\n",
       "    </tr>\n",
       "    <tr>\n",
       "      <th>3</th>\n",
       "      <td>NaN</td>\n",
       "      <td>NaN</td>\n",
       "      <td>NaN</td>\n",
       "      <td>NaN</td>\n",
       "      <td>NaN</td>\n",
       "    </tr>\n",
       "    <tr>\n",
       "      <th>4</th>\n",
       "      <td>NaN</td>\n",
       "      <td>NaN</td>\n",
       "      <td>NaN</td>\n",
       "      <td>NaN</td>\n",
       "      <td>NaN</td>\n",
       "    </tr>\n",
       "    <tr>\n",
       "      <th>5</th>\n",
       "      <td>NaN</td>\n",
       "      <td>NaN</td>\n",
       "      <td>NaN</td>\n",
       "      <td>NaN</td>\n",
       "      <td>NaN</td>\n",
       "    </tr>\n",
       "    <tr>\n",
       "      <th>...</th>\n",
       "      <td>...</td>\n",
       "      <td>...</td>\n",
       "      <td>...</td>\n",
       "      <td>...</td>\n",
       "      <td>...</td>\n",
       "    </tr>\n",
       "    <tr>\n",
       "      <th>96</th>\n",
       "      <td>84.0</td>\n",
       "      <td>74.0</td>\n",
       "      <td>2.0</td>\n",
       "      <td>1.0</td>\n",
       "      <td>95.0</td>\n",
       "    </tr>\n",
       "    <tr>\n",
       "      <th>97</th>\n",
       "      <td>104.0</td>\n",
       "      <td>109.0</td>\n",
       "      <td>1.0</td>\n",
       "      <td>0.0</td>\n",
       "      <td>92.0</td>\n",
       "    </tr>\n",
       "    <tr>\n",
       "      <th>98</th>\n",
       "      <td>NaN</td>\n",
       "      <td>NaN</td>\n",
       "      <td>NaN</td>\n",
       "      <td>NaN</td>\n",
       "      <td>NaN</td>\n",
       "    </tr>\n",
       "    <tr>\n",
       "      <th>99</th>\n",
       "      <td>NaN</td>\n",
       "      <td>NaN</td>\n",
       "      <td>NaN</td>\n",
       "      <td>NaN</td>\n",
       "      <td>NaN</td>\n",
       "    </tr>\n",
       "    <tr>\n",
       "      <th>100</th>\n",
       "      <td>NaN</td>\n",
       "      <td>NaN</td>\n",
       "      <td>NaN</td>\n",
       "      <td>NaN</td>\n",
       "      <td>NaN</td>\n",
       "    </tr>\n",
       "  </tbody>\n",
       "</table>\n",
       "<p>100 rows × 5 columns</p>\n",
       "</div>"
      ],
      "text/plain": [
       "     gre score  toefl score  university rate  research  admission rate\n",
       "1          NaN          NaN              NaN       NaN             NaN\n",
       "2          NaN          NaN              NaN       NaN             NaN\n",
       "3          NaN          NaN              NaN       NaN             NaN\n",
       "4          NaN          NaN              NaN       NaN             NaN\n",
       "5          NaN          NaN              NaN       NaN             NaN\n",
       "..         ...          ...              ...       ...             ...\n",
       "96        84.0         74.0              2.0       1.0            95.0\n",
       "97       104.0        109.0              1.0       0.0            92.0\n",
       "98         NaN          NaN              NaN       NaN             NaN\n",
       "99         NaN          NaN              NaN       NaN             NaN\n",
       "100        NaN          NaN              NaN       NaN             NaN\n",
       "\n",
       "[100 rows x 5 columns]"
      ]
     },
     "execution_count": 24,
     "metadata": {},
     "output_type": "execute_result"
    }
   ],
   "source": [
    "# After having a boolean masking, we can use the where() function to output True data from the DataFrame. False data will be displayed as NaN\n",
    "df.where(admission_masked)"
   ]
  },
  {
   "cell_type": "code",
   "execution_count": 25,
   "id": "0cb05603",
   "metadata": {},
   "outputs": [
    {
     "data": {
      "text/html": [
       "<div>\n",
       "<style scoped>\n",
       "    .dataframe tbody tr th:only-of-type {\n",
       "        vertical-align: middle;\n",
       "    }\n",
       "\n",
       "    .dataframe tbody tr th {\n",
       "        vertical-align: top;\n",
       "    }\n",
       "\n",
       "    .dataframe thead th {\n",
       "        text-align: right;\n",
       "    }\n",
       "</style>\n",
       "<table border=\"1\" class=\"dataframe\">\n",
       "  <thead>\n",
       "    <tr style=\"text-align: right;\">\n",
       "      <th></th>\n",
       "      <th>gre score</th>\n",
       "      <th>toefl score</th>\n",
       "      <th>university rate</th>\n",
       "      <th>research</th>\n",
       "      <th>admission rate</th>\n",
       "    </tr>\n",
       "  </thead>\n",
       "  <tbody>\n",
       "    <tr>\n",
       "      <th>6</th>\n",
       "      <td>150.0</td>\n",
       "      <td>81.0</td>\n",
       "      <td>2.0</td>\n",
       "      <td>4.0</td>\n",
       "      <td>99.0</td>\n",
       "    </tr>\n",
       "    <tr>\n",
       "      <th>13</th>\n",
       "      <td>103.0</td>\n",
       "      <td>108.0</td>\n",
       "      <td>3.0</td>\n",
       "      <td>3.0</td>\n",
       "      <td>92.0</td>\n",
       "    </tr>\n",
       "    <tr>\n",
       "      <th>17</th>\n",
       "      <td>99.0</td>\n",
       "      <td>73.0</td>\n",
       "      <td>3.0</td>\n",
       "      <td>0.0</td>\n",
       "      <td>94.0</td>\n",
       "    </tr>\n",
       "    <tr>\n",
       "      <th>23</th>\n",
       "      <td>81.0</td>\n",
       "      <td>113.0</td>\n",
       "      <td>2.0</td>\n",
       "      <td>0.0</td>\n",
       "      <td>92.0</td>\n",
       "    </tr>\n",
       "    <tr>\n",
       "      <th>33</th>\n",
       "      <td>112.0</td>\n",
       "      <td>90.0</td>\n",
       "      <td>2.0</td>\n",
       "      <td>3.0</td>\n",
       "      <td>89.0</td>\n",
       "    </tr>\n",
       "  </tbody>\n",
       "</table>\n",
       "</div>"
      ],
      "text/plain": [
       "    gre score  toefl score  university rate  research  admission rate\n",
       "6       150.0         81.0              2.0       4.0            99.0\n",
       "13      103.0        108.0              3.0       3.0            92.0\n",
       "17       99.0         73.0              3.0       0.0            94.0\n",
       "23       81.0        113.0              2.0       0.0            92.0\n",
       "33      112.0         90.0              2.0       3.0            89.0"
      ]
     },
     "execution_count": 25,
     "metadata": {},
     "output_type": "execute_result"
    }
   ],
   "source": [
    "df.where(admission_masked).dropna().head()"
   ]
  },
  {
   "cell_type": "code",
   "execution_count": 26,
   "id": "eaf7b460",
   "metadata": {},
   "outputs": [
    {
     "data": {
      "text/html": [
       "<div>\n",
       "<style scoped>\n",
       "    .dataframe tbody tr th:only-of-type {\n",
       "        vertical-align: middle;\n",
       "    }\n",
       "\n",
       "    .dataframe tbody tr th {\n",
       "        vertical-align: top;\n",
       "    }\n",
       "\n",
       "    .dataframe thead th {\n",
       "        text-align: right;\n",
       "    }\n",
       "</style>\n",
       "<table border=\"1\" class=\"dataframe\">\n",
       "  <thead>\n",
       "    <tr style=\"text-align: right;\">\n",
       "      <th></th>\n",
       "      <th>gre score</th>\n",
       "      <th>research</th>\n",
       "    </tr>\n",
       "  </thead>\n",
       "  <tbody>\n",
       "    <tr>\n",
       "      <th>1</th>\n",
       "      <td>152.0</td>\n",
       "      <td>4.0</td>\n",
       "    </tr>\n",
       "    <tr>\n",
       "      <th>2</th>\n",
       "      <td>159.0</td>\n",
       "      <td>4.0</td>\n",
       "    </tr>\n",
       "    <tr>\n",
       "      <th>3</th>\n",
       "      <td>160.0</td>\n",
       "      <td>1.0</td>\n",
       "    </tr>\n",
       "    <tr>\n",
       "      <th>4</th>\n",
       "      <td>145.0</td>\n",
       "      <td>1.0</td>\n",
       "    </tr>\n",
       "    <tr>\n",
       "      <th>5</th>\n",
       "      <td>80.0</td>\n",
       "      <td>1.0</td>\n",
       "    </tr>\n",
       "  </tbody>\n",
       "</table>\n",
       "</div>"
      ],
      "text/plain": [
       "   gre score  research\n",
       "1      152.0       4.0\n",
       "2      159.0       4.0\n",
       "3      160.0       1.0\n",
       "4      145.0       1.0\n",
       "5       80.0       1.0"
      ]
     },
     "execution_count": 26,
     "metadata": {},
     "output_type": "execute_result"
    }
   ],
   "source": [
    "df[[\"gre score\", \"research\"]].head()"
   ]
  },
  {
   "cell_type": "code",
   "execution_count": 33,
   "id": "60d868ce",
   "metadata": {},
   "outputs": [],
   "source": [
    "gre_toefl = (df['gre score'] > 80) & (df['toefl score'] > 80)\n",
    "# or\n",
    "gre_toefl2 = (df['gre score'].gt(80).lt(150))"
   ]
  },
  {
   "cell_type": "code",
   "execution_count": 34,
   "id": "c62a689d",
   "metadata": {},
   "outputs": [
    {
     "data": {
      "text/html": [
       "<div>\n",
       "<style scoped>\n",
       "    .dataframe tbody tr th:only-of-type {\n",
       "        vertical-align: middle;\n",
       "    }\n",
       "\n",
       "    .dataframe tbody tr th {\n",
       "        vertical-align: top;\n",
       "    }\n",
       "\n",
       "    .dataframe thead th {\n",
       "        text-align: right;\n",
       "    }\n",
       "</style>\n",
       "<table border=\"1\" class=\"dataframe\">\n",
       "  <thead>\n",
       "    <tr style=\"text-align: right;\">\n",
       "      <th></th>\n",
       "      <th>gre score</th>\n",
       "      <th>toefl score</th>\n",
       "      <th>university rate</th>\n",
       "      <th>research</th>\n",
       "      <th>admission rate</th>\n",
       "    </tr>\n",
       "  </thead>\n",
       "  <tbody>\n",
       "    <tr>\n",
       "      <th>1</th>\n",
       "      <td>152.0</td>\n",
       "      <td>103.0</td>\n",
       "      <td>2.0</td>\n",
       "      <td>4.0</td>\n",
       "      <td>85.0</td>\n",
       "    </tr>\n",
       "    <tr>\n",
       "      <th>3</th>\n",
       "      <td>160.0</td>\n",
       "      <td>83.0</td>\n",
       "      <td>2.0</td>\n",
       "      <td>1.0</td>\n",
       "      <td>6.0</td>\n",
       "    </tr>\n",
       "    <tr>\n",
       "      <th>4</th>\n",
       "      <td>145.0</td>\n",
       "      <td>82.0</td>\n",
       "      <td>3.0</td>\n",
       "      <td>1.0</td>\n",
       "      <td>25.0</td>\n",
       "    </tr>\n",
       "    <tr>\n",
       "      <th>6</th>\n",
       "      <td>150.0</td>\n",
       "      <td>81.0</td>\n",
       "      <td>2.0</td>\n",
       "      <td>4.0</td>\n",
       "      <td>99.0</td>\n",
       "    </tr>\n",
       "    <tr>\n",
       "      <th>7</th>\n",
       "      <td>118.0</td>\n",
       "      <td>118.0</td>\n",
       "      <td>1.0</td>\n",
       "      <td>4.0</td>\n",
       "      <td>66.0</td>\n",
       "    </tr>\n",
       "  </tbody>\n",
       "</table>\n",
       "</div>"
      ],
      "text/plain": [
       "   gre score  toefl score  university rate  research  admission rate\n",
       "1      152.0        103.0              2.0       4.0            85.0\n",
       "3      160.0         83.0              2.0       1.0             6.0\n",
       "4      145.0         82.0              3.0       1.0            25.0\n",
       "6      150.0         81.0              2.0       4.0            99.0\n",
       "7      118.0        118.0              1.0       4.0            66.0"
      ]
     },
     "execution_count": 34,
     "metadata": {},
     "output_type": "execute_result"
    }
   ],
   "source": [
    "df.where(gre_toefl).dropna().head()"
   ]
  },
  {
   "cell_type": "code",
   "execution_count": 54,
   "id": "f6790cff",
   "metadata": {},
   "outputs": [
    {
     "data": {
      "text/html": [
       "<div>\n",
       "<style scoped>\n",
       "    .dataframe tbody tr th:only-of-type {\n",
       "        vertical-align: middle;\n",
       "    }\n",
       "\n",
       "    .dataframe tbody tr th {\n",
       "        vertical-align: top;\n",
       "    }\n",
       "\n",
       "    .dataframe thead th {\n",
       "        text-align: right;\n",
       "    }\n",
       "</style>\n",
       "<table border=\"1\" class=\"dataframe\">\n",
       "  <thead>\n",
       "    <tr style=\"text-align: right;\">\n",
       "      <th></th>\n",
       "      <th>gre score</th>\n",
       "      <th>toefl score</th>\n",
       "      <th>university rate</th>\n",
       "      <th>research</th>\n",
       "    </tr>\n",
       "    <tr>\n",
       "      <th>admission rate</th>\n",
       "      <th></th>\n",
       "      <th></th>\n",
       "      <th></th>\n",
       "      <th></th>\n",
       "    </tr>\n",
       "  </thead>\n",
       "  <tbody>\n",
       "  </tbody>\n",
       "</table>\n",
       "</div>"
      ],
      "text/plain": [
       "Empty DataFrame\n",
       "Columns: [gre score, toefl score, university rate, research]\n",
       "Index: []"
      ]
     },
     "execution_count": 54,
     "metadata": {},
     "output_type": "execute_result"
    }
   ],
   "source": [
    "df.where(gre_toefl2).dropna().head()"
   ]
  },
  {
   "cell_type": "markdown",
   "id": "5f9f63c6",
   "metadata": {},
   "source": [
    "## DataFrame Indexing"
   ]
  },
  {
   "cell_type": "code",
   "execution_count": 78,
   "id": "9e132887",
   "metadata": {},
   "outputs": [
    {
     "data": {
      "text/plain": [
       "<bound method DataFrame.sort_index of                                 gre score  toefl score  research\n",
       "admission rate university rate                                  \n",
       "77.0           3.0                  132.0        108.0       0.0\n",
       "76.0           1.0                   89.0         88.0       2.0\n",
       "               3.0                   99.0         94.0       2.0\n",
       "1.0            1.0                  142.0         91.0       0.0\n",
       "27.0           2.0                  126.0         96.0       4.0\n",
       "...                                   ...          ...       ...\n",
       "99.0           3.0                   81.0        113.0       1.0\n",
       "45.0           1.0                  138.0        107.0       3.0\n",
       "64.0           3.0                  164.0        100.0       2.0\n",
       "94.0           1.0                   78.0         75.0       3.0\n",
       "NaN            NaN                    NaN          NaN       NaN\n",
       "\n",
       "[100 rows x 3 columns]>"
      ]
     },
     "execution_count": 78,
     "metadata": {},
     "output_type": "execute_result"
    }
   ],
   "source": [
    "df.set_index([\"admission rate\", 'university rate'], inplace=True)\n",
    "df.sort_index"
   ]
  },
  {
   "cell_type": "code",
   "execution_count": 79,
   "id": "40c4eb0e",
   "metadata": {},
   "outputs": [
    {
     "data": {
      "text/html": [
       "<div>\n",
       "<style scoped>\n",
       "    .dataframe tbody tr th:only-of-type {\n",
       "        vertical-align: middle;\n",
       "    }\n",
       "\n",
       "    .dataframe tbody tr th {\n",
       "        vertical-align: top;\n",
       "    }\n",
       "\n",
       "    .dataframe thead th {\n",
       "        text-align: right;\n",
       "    }\n",
       "</style>\n",
       "<table border=\"1\" class=\"dataframe\">\n",
       "  <thead>\n",
       "    <tr style=\"text-align: right;\">\n",
       "      <th></th>\n",
       "      <th></th>\n",
       "      <th>gre score</th>\n",
       "      <th>toefl score</th>\n",
       "      <th>research</th>\n",
       "    </tr>\n",
       "    <tr>\n",
       "      <th>admission rate</th>\n",
       "      <th>university rate</th>\n",
       "      <th></th>\n",
       "      <th></th>\n",
       "      <th></th>\n",
       "    </tr>\n",
       "  </thead>\n",
       "  <tbody>\n",
       "    <tr>\n",
       "      <th>77.0</th>\n",
       "      <th>3.0</th>\n",
       "      <td>132.0</td>\n",
       "      <td>108.0</td>\n",
       "      <td>0.0</td>\n",
       "    </tr>\n",
       "    <tr>\n",
       "      <th rowspan=\"2\" valign=\"top\">76.0</th>\n",
       "      <th>1.0</th>\n",
       "      <td>89.0</td>\n",
       "      <td>88.0</td>\n",
       "      <td>2.0</td>\n",
       "    </tr>\n",
       "    <tr>\n",
       "      <th>3.0</th>\n",
       "      <td>99.0</td>\n",
       "      <td>94.0</td>\n",
       "      <td>2.0</td>\n",
       "    </tr>\n",
       "    <tr>\n",
       "      <th>1.0</th>\n",
       "      <th>1.0</th>\n",
       "      <td>142.0</td>\n",
       "      <td>91.0</td>\n",
       "      <td>0.0</td>\n",
       "    </tr>\n",
       "    <tr>\n",
       "      <th>27.0</th>\n",
       "      <th>2.0</th>\n",
       "      <td>126.0</td>\n",
       "      <td>96.0</td>\n",
       "      <td>4.0</td>\n",
       "    </tr>\n",
       "  </tbody>\n",
       "</table>\n",
       "</div>"
      ],
      "text/plain": [
       "                                gre score  toefl score  research\n",
       "admission rate university rate                                  \n",
       "77.0           3.0                  132.0        108.0       0.0\n",
       "76.0           1.0                   89.0         88.0       2.0\n",
       "               3.0                   99.0         94.0       2.0\n",
       "1.0            1.0                  142.0         91.0       0.0\n",
       "27.0           2.0                  126.0         96.0       4.0"
      ]
     },
     "execution_count": 79,
     "metadata": {},
     "output_type": "execute_result"
    }
   ],
   "source": [
    "df.head()"
   ]
  },
  {
   "cell_type": "code",
   "execution_count": 81,
   "id": "0b5c7f88",
   "metadata": {},
   "outputs": [
    {
     "data": {
      "text/html": [
       "<div>\n",
       "<style scoped>\n",
       "    .dataframe tbody tr th:only-of-type {\n",
       "        vertical-align: middle;\n",
       "    }\n",
       "\n",
       "    .dataframe tbody tr th {\n",
       "        vertical-align: top;\n",
       "    }\n",
       "\n",
       "    .dataframe thead th {\n",
       "        text-align: right;\n",
       "    }\n",
       "</style>\n",
       "<table border=\"1\" class=\"dataframe\">\n",
       "  <thead>\n",
       "    <tr style=\"text-align: right;\">\n",
       "      <th></th>\n",
       "      <th></th>\n",
       "      <th>gre score</th>\n",
       "      <th>toefl score</th>\n",
       "      <th>research</th>\n",
       "    </tr>\n",
       "    <tr>\n",
       "      <th>admission rate</th>\n",
       "      <th>university rate</th>\n",
       "      <th></th>\n",
       "      <th></th>\n",
       "      <th></th>\n",
       "    </tr>\n",
       "  </thead>\n",
       "  <tbody>\n",
       "    <tr>\n",
       "      <th>76.0</th>\n",
       "      <th>1.0</th>\n",
       "      <td>89.0</td>\n",
       "      <td>88.0</td>\n",
       "      <td>2.0</td>\n",
       "    </tr>\n",
       "  </tbody>\n",
       "</table>\n",
       "</div>"
      ],
      "text/plain": [
       "                                gre score  toefl score  research\n",
       "admission rate university rate                                  \n",
       "76.0           1.0                   89.0         88.0       2.0"
      ]
     },
     "execution_count": 81,
     "metadata": {},
     "output_type": "execute_result"
    }
   ],
   "source": [
    "df.loc[[(76.0,1.0)]]"
   ]
  },
  {
   "cell_type": "markdown",
   "id": "cc3ae00f",
   "metadata": {},
   "source": [
    "## Missing Value"
   ]
  },
  {
   "cell_type": "code",
   "execution_count": 82,
   "id": "b3264b04",
   "metadata": {},
   "outputs": [
    {
     "data": {
      "text/html": [
       "<div>\n",
       "<style scoped>\n",
       "    .dataframe tbody tr th:only-of-type {\n",
       "        vertical-align: middle;\n",
       "    }\n",
       "\n",
       "    .dataframe tbody tr th {\n",
       "        vertical-align: top;\n",
       "    }\n",
       "\n",
       "    .dataframe thead th {\n",
       "        text-align: right;\n",
       "    }\n",
       "</style>\n",
       "<table border=\"1\" class=\"dataframe\">\n",
       "  <thead>\n",
       "    <tr style=\"text-align: right;\">\n",
       "      <th></th>\n",
       "      <th></th>\n",
       "      <th>gre score</th>\n",
       "      <th>toefl score</th>\n",
       "      <th>research</th>\n",
       "    </tr>\n",
       "    <tr>\n",
       "      <th>admission rate</th>\n",
       "      <th>university rate</th>\n",
       "      <th></th>\n",
       "      <th></th>\n",
       "      <th></th>\n",
       "    </tr>\n",
       "  </thead>\n",
       "  <tbody>\n",
       "    <tr>\n",
       "      <th>77.0</th>\n",
       "      <th>3.0</th>\n",
       "      <td>False</td>\n",
       "      <td>False</td>\n",
       "      <td>False</td>\n",
       "    </tr>\n",
       "    <tr>\n",
       "      <th rowspan=\"2\" valign=\"top\">76.0</th>\n",
       "      <th>1.0</th>\n",
       "      <td>False</td>\n",
       "      <td>False</td>\n",
       "      <td>False</td>\n",
       "    </tr>\n",
       "    <tr>\n",
       "      <th>3.0</th>\n",
       "      <td>False</td>\n",
       "      <td>False</td>\n",
       "      <td>False</td>\n",
       "    </tr>\n",
       "    <tr>\n",
       "      <th>1.0</th>\n",
       "      <th>1.0</th>\n",
       "      <td>False</td>\n",
       "      <td>False</td>\n",
       "      <td>False</td>\n",
       "    </tr>\n",
       "    <tr>\n",
       "      <th>27.0</th>\n",
       "      <th>2.0</th>\n",
       "      <td>False</td>\n",
       "      <td>False</td>\n",
       "      <td>False</td>\n",
       "    </tr>\n",
       "    <tr>\n",
       "      <th>...</th>\n",
       "      <th>...</th>\n",
       "      <td>...</td>\n",
       "      <td>...</td>\n",
       "      <td>...</td>\n",
       "    </tr>\n",
       "    <tr>\n",
       "      <th>99.0</th>\n",
       "      <th>3.0</th>\n",
       "      <td>False</td>\n",
       "      <td>False</td>\n",
       "      <td>False</td>\n",
       "    </tr>\n",
       "    <tr>\n",
       "      <th>45.0</th>\n",
       "      <th>1.0</th>\n",
       "      <td>False</td>\n",
       "      <td>False</td>\n",
       "      <td>False</td>\n",
       "    </tr>\n",
       "    <tr>\n",
       "      <th>64.0</th>\n",
       "      <th>3.0</th>\n",
       "      <td>False</td>\n",
       "      <td>False</td>\n",
       "      <td>False</td>\n",
       "    </tr>\n",
       "    <tr>\n",
       "      <th>94.0</th>\n",
       "      <th>1.0</th>\n",
       "      <td>False</td>\n",
       "      <td>False</td>\n",
       "      <td>False</td>\n",
       "    </tr>\n",
       "    <tr>\n",
       "      <th>NaN</th>\n",
       "      <th>NaN</th>\n",
       "      <td>True</td>\n",
       "      <td>True</td>\n",
       "      <td>True</td>\n",
       "    </tr>\n",
       "  </tbody>\n",
       "</table>\n",
       "<p>100 rows × 3 columns</p>\n",
       "</div>"
      ],
      "text/plain": [
       "                                gre score  toefl score  research\n",
       "admission rate university rate                                  \n",
       "77.0           3.0                  False        False     False\n",
       "76.0           1.0                  False        False     False\n",
       "               3.0                  False        False     False\n",
       "1.0            1.0                  False        False     False\n",
       "27.0           2.0                  False        False     False\n",
       "...                                   ...          ...       ...\n",
       "99.0           3.0                  False        False     False\n",
       "45.0           1.0                  False        False     False\n",
       "64.0           3.0                  False        False     False\n",
       "94.0           1.0                  False        False     False\n",
       "NaN            NaN                   True         True      True\n",
       "\n",
       "[100 rows x 3 columns]"
      ]
     },
     "execution_count": 82,
     "metadata": {},
     "output_type": "execute_result"
    }
   ],
   "source": [
    "# isnull() function is used for checking Null and NaN values in the dataframe\n",
    "df.isnull()"
   ]
  },
  {
   "cell_type": "code",
   "execution_count": 83,
   "id": "4a4ebfef",
   "metadata": {},
   "outputs": [
    {
     "data": {
      "text/html": [
       "<div>\n",
       "<style scoped>\n",
       "    .dataframe tbody tr th:only-of-type {\n",
       "        vertical-align: middle;\n",
       "    }\n",
       "\n",
       "    .dataframe tbody tr th {\n",
       "        vertical-align: top;\n",
       "    }\n",
       "\n",
       "    .dataframe thead th {\n",
       "        text-align: right;\n",
       "    }\n",
       "</style>\n",
       "<table border=\"1\" class=\"dataframe\">\n",
       "  <thead>\n",
       "    <tr style=\"text-align: right;\">\n",
       "      <th></th>\n",
       "      <th></th>\n",
       "      <th>gre score</th>\n",
       "      <th>toefl score</th>\n",
       "      <th>research</th>\n",
       "    </tr>\n",
       "    <tr>\n",
       "      <th>admission rate</th>\n",
       "      <th>university rate</th>\n",
       "      <th></th>\n",
       "      <th></th>\n",
       "      <th></th>\n",
       "    </tr>\n",
       "  </thead>\n",
       "  <tbody>\n",
       "    <tr>\n",
       "      <th>77.0</th>\n",
       "      <th>3.0</th>\n",
       "      <td>132.0</td>\n",
       "      <td>108.0</td>\n",
       "      <td>0.0</td>\n",
       "    </tr>\n",
       "    <tr>\n",
       "      <th rowspan=\"2\" valign=\"top\">76.0</th>\n",
       "      <th>1.0</th>\n",
       "      <td>89.0</td>\n",
       "      <td>88.0</td>\n",
       "      <td>2.0</td>\n",
       "    </tr>\n",
       "    <tr>\n",
       "      <th>3.0</th>\n",
       "      <td>99.0</td>\n",
       "      <td>94.0</td>\n",
       "      <td>2.0</td>\n",
       "    </tr>\n",
       "    <tr>\n",
       "      <th>1.0</th>\n",
       "      <th>1.0</th>\n",
       "      <td>142.0</td>\n",
       "      <td>91.0</td>\n",
       "      <td>0.0</td>\n",
       "    </tr>\n",
       "    <tr>\n",
       "      <th>27.0</th>\n",
       "      <th>2.0</th>\n",
       "      <td>126.0</td>\n",
       "      <td>96.0</td>\n",
       "      <td>4.0</td>\n",
       "    </tr>\n",
       "    <tr>\n",
       "      <th>...</th>\n",
       "      <th>...</th>\n",
       "      <td>...</td>\n",
       "      <td>...</td>\n",
       "      <td>...</td>\n",
       "    </tr>\n",
       "    <tr>\n",
       "      <th>1.0</th>\n",
       "      <th>1.0</th>\n",
       "      <td>118.0</td>\n",
       "      <td>108.0</td>\n",
       "      <td>4.0</td>\n",
       "    </tr>\n",
       "    <tr>\n",
       "      <th>99.0</th>\n",
       "      <th>3.0</th>\n",
       "      <td>81.0</td>\n",
       "      <td>113.0</td>\n",
       "      <td>1.0</td>\n",
       "    </tr>\n",
       "    <tr>\n",
       "      <th>45.0</th>\n",
       "      <th>1.0</th>\n",
       "      <td>138.0</td>\n",
       "      <td>107.0</td>\n",
       "      <td>3.0</td>\n",
       "    </tr>\n",
       "    <tr>\n",
       "      <th>64.0</th>\n",
       "      <th>3.0</th>\n",
       "      <td>164.0</td>\n",
       "      <td>100.0</td>\n",
       "      <td>2.0</td>\n",
       "    </tr>\n",
       "    <tr>\n",
       "      <th>94.0</th>\n",
       "      <th>1.0</th>\n",
       "      <td>78.0</td>\n",
       "      <td>75.0</td>\n",
       "      <td>3.0</td>\n",
       "    </tr>\n",
       "  </tbody>\n",
       "</table>\n",
       "<p>99 rows × 3 columns</p>\n",
       "</div>"
      ],
      "text/plain": [
       "                                gre score  toefl score  research\n",
       "admission rate university rate                                  \n",
       "77.0           3.0                  132.0        108.0       0.0\n",
       "76.0           1.0                   89.0         88.0       2.0\n",
       "               3.0                   99.0         94.0       2.0\n",
       "1.0            1.0                  142.0         91.0       0.0\n",
       "27.0           2.0                  126.0         96.0       4.0\n",
       "...                                   ...          ...       ...\n",
       "1.0            1.0                  118.0        108.0       4.0\n",
       "99.0           3.0                   81.0        113.0       1.0\n",
       "45.0           1.0                  138.0        107.0       3.0\n",
       "64.0           3.0                  164.0        100.0       2.0\n",
       "94.0           1.0                   78.0         75.0       3.0\n",
       "\n",
       "[99 rows x 3 columns]"
      ]
     },
     "execution_count": 83,
     "metadata": {},
     "output_type": "execute_result"
    }
   ],
   "source": [
    "# There are many ways to deal with missing value. The 1st method is to remove all of them with dropna()\n",
    "df.dropna()"
   ]
  },
  {
   "cell_type": "code",
   "execution_count": 84,
   "id": "2696e06e",
   "metadata": {
    "scrolled": true
   },
   "outputs": [
    {
     "data": {
      "text/html": [
       "<div>\n",
       "<style scoped>\n",
       "    .dataframe tbody tr th:only-of-type {\n",
       "        vertical-align: middle;\n",
       "    }\n",
       "\n",
       "    .dataframe tbody tr th {\n",
       "        vertical-align: top;\n",
       "    }\n",
       "\n",
       "    .dataframe thead th {\n",
       "        text-align: right;\n",
       "    }\n",
       "</style>\n",
       "<table border=\"1\" class=\"dataframe\">\n",
       "  <thead>\n",
       "    <tr style=\"text-align: right;\">\n",
       "      <th></th>\n",
       "      <th></th>\n",
       "      <th>gre score</th>\n",
       "      <th>toefl score</th>\n",
       "      <th>research</th>\n",
       "    </tr>\n",
       "    <tr>\n",
       "      <th>admission rate</th>\n",
       "      <th>university rate</th>\n",
       "      <th></th>\n",
       "      <th></th>\n",
       "      <th></th>\n",
       "    </tr>\n",
       "  </thead>\n",
       "  <tbody>\n",
       "    <tr>\n",
       "      <th>77.0</th>\n",
       "      <th>3.0</th>\n",
       "      <td>132.0</td>\n",
       "      <td>108.0</td>\n",
       "      <td>0.0</td>\n",
       "    </tr>\n",
       "    <tr>\n",
       "      <th rowspan=\"2\" valign=\"top\">76.0</th>\n",
       "      <th>1.0</th>\n",
       "      <td>89.0</td>\n",
       "      <td>88.0</td>\n",
       "      <td>2.0</td>\n",
       "    </tr>\n",
       "    <tr>\n",
       "      <th>3.0</th>\n",
       "      <td>99.0</td>\n",
       "      <td>94.0</td>\n",
       "      <td>2.0</td>\n",
       "    </tr>\n",
       "    <tr>\n",
       "      <th>1.0</th>\n",
       "      <th>1.0</th>\n",
       "      <td>142.0</td>\n",
       "      <td>91.0</td>\n",
       "      <td>0.0</td>\n",
       "    </tr>\n",
       "    <tr>\n",
       "      <th>27.0</th>\n",
       "      <th>2.0</th>\n",
       "      <td>126.0</td>\n",
       "      <td>96.0</td>\n",
       "      <td>4.0</td>\n",
       "    </tr>\n",
       "    <tr>\n",
       "      <th>...</th>\n",
       "      <th>...</th>\n",
       "      <td>...</td>\n",
       "      <td>...</td>\n",
       "      <td>...</td>\n",
       "    </tr>\n",
       "    <tr>\n",
       "      <th>99.0</th>\n",
       "      <th>3.0</th>\n",
       "      <td>81.0</td>\n",
       "      <td>113.0</td>\n",
       "      <td>1.0</td>\n",
       "    </tr>\n",
       "    <tr>\n",
       "      <th>45.0</th>\n",
       "      <th>1.0</th>\n",
       "      <td>138.0</td>\n",
       "      <td>107.0</td>\n",
       "      <td>3.0</td>\n",
       "    </tr>\n",
       "    <tr>\n",
       "      <th>64.0</th>\n",
       "      <th>3.0</th>\n",
       "      <td>164.0</td>\n",
       "      <td>100.0</td>\n",
       "      <td>2.0</td>\n",
       "    </tr>\n",
       "    <tr>\n",
       "      <th>94.0</th>\n",
       "      <th>1.0</th>\n",
       "      <td>78.0</td>\n",
       "      <td>75.0</td>\n",
       "      <td>3.0</td>\n",
       "    </tr>\n",
       "    <tr>\n",
       "      <th>NaN</th>\n",
       "      <th>NaN</th>\n",
       "      <td>78.0</td>\n",
       "      <td>75.0</td>\n",
       "      <td>3.0</td>\n",
       "    </tr>\n",
       "  </tbody>\n",
       "</table>\n",
       "<p>100 rows × 3 columns</p>\n",
       "</div>"
      ],
      "text/plain": [
       "                                gre score  toefl score  research\n",
       "admission rate university rate                                  \n",
       "77.0           3.0                  132.0        108.0       0.0\n",
       "76.0           1.0                   89.0         88.0       2.0\n",
       "               3.0                   99.0         94.0       2.0\n",
       "1.0            1.0                  142.0         91.0       0.0\n",
       "27.0           2.0                  126.0         96.0       4.0\n",
       "...                                   ...          ...       ...\n",
       "99.0           3.0                   81.0        113.0       1.0\n",
       "45.0           1.0                  138.0        107.0       3.0\n",
       "64.0           3.0                  164.0        100.0       2.0\n",
       "94.0           1.0                   78.0         75.0       3.0\n",
       "NaN            NaN                   78.0         75.0       3.0\n",
       "\n",
       "[100 rows x 3 columns]"
      ]
     },
     "execution_count": 84,
     "metadata": {},
     "output_type": "execute_result"
    }
   ],
   "source": [
    "# The 2nd way is to fill that missing value with an appropriate value with fillna()\n",
    "df.fillna(0)\n",
    "# you can also use \n",
    "# ffill(): forward fill use previous value cell\n",
    "df.ffill()\n",
    "# bfill(): backward fill use folling value cell"
   ]
  },
  {
   "cell_type": "code",
   "execution_count": 89,
   "id": "de4f3ab4",
   "metadata": {},
   "outputs": [
    {
     "data": {
      "text/html": [
       "<div>\n",
       "<style scoped>\n",
       "    .dataframe tbody tr th:only-of-type {\n",
       "        vertical-align: middle;\n",
       "    }\n",
       "\n",
       "    .dataframe tbody tr th {\n",
       "        vertical-align: top;\n",
       "    }\n",
       "\n",
       "    .dataframe thead th {\n",
       "        text-align: right;\n",
       "    }\n",
       "</style>\n",
       "<table border=\"1\" class=\"dataframe\">\n",
       "  <thead>\n",
       "    <tr style=\"text-align: right;\">\n",
       "      <th></th>\n",
       "      <th>A</th>\n",
       "      <th>B</th>\n",
       "      <th>C</th>\n",
       "    </tr>\n",
       "  </thead>\n",
       "  <tbody>\n",
       "    <tr>\n",
       "      <th>0</th>\n",
       "      <td>1</td>\n",
       "      <td>3</td>\n",
       "      <td>a</td>\n",
       "    </tr>\n",
       "    <tr>\n",
       "      <th>1</th>\n",
       "      <td>1</td>\n",
       "      <td>6</td>\n",
       "      <td>b</td>\n",
       "    </tr>\n",
       "    <tr>\n",
       "      <th>2</th>\n",
       "      <td>2</td>\n",
       "      <td>3</td>\n",
       "      <td>c</td>\n",
       "    </tr>\n",
       "    <tr>\n",
       "      <th>3</th>\n",
       "      <td>3</td>\n",
       "      <td>8</td>\n",
       "      <td>d</td>\n",
       "    </tr>\n",
       "    <tr>\n",
       "      <th>4</th>\n",
       "      <td>4</td>\n",
       "      <td>9</td>\n",
       "      <td>a</td>\n",
       "    </tr>\n",
       "  </tbody>\n",
       "</table>\n",
       "</div>"
      ],
      "text/plain": [
       "   A  B  C\n",
       "0  1  3  a\n",
       "1  1  6  b\n",
       "2  2  3  c\n",
       "3  3  8  d\n",
       "4  4  9  a"
      ]
     },
     "execution_count": 89,
     "metadata": {},
     "output_type": "execute_result"
    }
   ],
   "source": [
    "df = pd.DataFrame({\"A\": [1,1,2,3,4],\n",
    "                   \"B\": [3,6,3,8,9],\n",
    "                   \"C\": [\"a\",\"b\",\"c\",\"d\",\"a\"]})\n",
    "df"
   ]
  },
  {
   "cell_type": "code",
   "execution_count": 91,
   "id": "bcb15dc4",
   "metadata": {},
   "outputs": [
    {
     "data": {
      "text/html": [
       "<div>\n",
       "<style scoped>\n",
       "    .dataframe tbody tr th:only-of-type {\n",
       "        vertical-align: middle;\n",
       "    }\n",
       "\n",
       "    .dataframe tbody tr th {\n",
       "        vertical-align: top;\n",
       "    }\n",
       "\n",
       "    .dataframe thead th {\n",
       "        text-align: right;\n",
       "    }\n",
       "</style>\n",
       "<table border=\"1\" class=\"dataframe\">\n",
       "  <thead>\n",
       "    <tr style=\"text-align: right;\">\n",
       "      <th></th>\n",
       "      <th>A</th>\n",
       "      <th>B</th>\n",
       "      <th>C</th>\n",
       "    </tr>\n",
       "  </thead>\n",
       "  <tbody>\n",
       "    <tr>\n",
       "      <th>0</th>\n",
       "      <td>10</td>\n",
       "      <td>300</td>\n",
       "      <td>a</td>\n",
       "    </tr>\n",
       "    <tr>\n",
       "      <th>1</th>\n",
       "      <td>10</td>\n",
       "      <td>6</td>\n",
       "      <td>b</td>\n",
       "    </tr>\n",
       "    <tr>\n",
       "      <th>2</th>\n",
       "      <td>2</td>\n",
       "      <td>300</td>\n",
       "      <td>c</td>\n",
       "    </tr>\n",
       "    <tr>\n",
       "      <th>3</th>\n",
       "      <td>300</td>\n",
       "      <td>8</td>\n",
       "      <td>d</td>\n",
       "    </tr>\n",
       "    <tr>\n",
       "      <th>4</th>\n",
       "      <td>4</td>\n",
       "      <td>9</td>\n",
       "      <td>a</td>\n",
       "    </tr>\n",
       "  </tbody>\n",
       "</table>\n",
       "</div>"
      ],
      "text/plain": [
       "     A    B  C\n",
       "0   10  300  a\n",
       "1   10    6  b\n",
       "2    2  300  c\n",
       "3  300    8  d\n",
       "4    4    9  a"
      ]
     },
     "execution_count": 91,
     "metadata": {},
     "output_type": "execute_result"
    }
   ],
   "source": [
    "df.replace([1,3],[10,300])"
   ]
  },
  {
   "cell_type": "code",
   "execution_count": null,
   "id": "462790e1",
   "metadata": {},
   "outputs": [],
   "source": []
  }
 ],
 "metadata": {
  "kernelspec": {
   "display_name": "Python 3 (ipykernel)",
   "language": "python",
   "name": "python3"
  },
  "language_info": {
   "codemirror_mode": {
    "name": "ipython",
    "version": 3
   },
   "file_extension": ".py",
   "mimetype": "text/x-python",
   "name": "python",
   "nbconvert_exporter": "python",
   "pygments_lexer": "ipython3",
   "version": "3.9.13"
  }
 },
 "nbformat": 4,
 "nbformat_minor": 5
}
